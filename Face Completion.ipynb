{
  "nbformat": 4,
  "nbformat_minor": 0,
  "metadata": {
    "colab": {
      "name": "V3.3_dcgan.ipynb",
      "version": "0.3.2",
      "provenance": [],
      "collapsed_sections": [
        "Hbw-GRN-lbpO",
        "irM5oz84wmvE",
        "zhLIHTlkwvBw"
      ]
    },
    "kernelspec": {
      "name": "python3",
      "display_name": "Python 3"
    },
    "accelerator": "GPU"
  },
  "cells": [
    {
      "cell_type": "markdown",
      "metadata": {
        "id": "Hbw-GRN-lbpO",
        "colab_type": "text"
      },
      "source": [
        "### Steps to load Models, make predictions and view predictions\n",
        "\n",
        "Notice: You may encounter an error while loading the model due to multi GPU compatibility: https://github.com/keras-team/keras/issues/9562\n",
        "\n",
        "If you see such an error, you can always use Colab and train a new model, for which the code is provided in the notebook.\n",
        "\n",
        "Step 1- Run the first 12 code cells of the notebook.\n",
        "\n",
        "Step 2- Go to the last code cell of the notebook. This cell is to load model weights. \n",
        "\n",
        "Step 3- Go to second last code cell of the notebook. This cell is to make predictions and load them."
      ]
    },
    {
      "cell_type": "markdown",
      "metadata": {
        "id": "gQZ-wrpwqkpw",
        "colab_type": "text"
      },
      "source": [
        "Step 1 note: Don't forget to change pickle paths. This is the path your dataset is loaded from.\n",
        "\n",
        "Step 2 note: Don't forget to modify \"model_path\" variable so you can use the shared model weight files. This is the path where your model weights reside in.\n",
        "\n",
        "Step 3 Note: Don't forget to modify \"plot_path\" variable. This variable determines where to save the plot."
      ]
    },
    {
      "cell_type": "markdown",
      "metadata": {
        "id": "irM5oz84wmvE",
        "colab_type": "text"
      },
      "source": [
        "### Links of the shared data and weight files"
      ]
    },
    {
      "cell_type": "markdown",
      "metadata": {
        "id": "WyCtnIYcq7b1",
        "colab_type": "text"
      },
      "source": [
        "__________________________"
      ]
    },
    {
      "cell_type": "markdown",
      "metadata": {
        "id": "huEojNoSq0Y_",
        "colab_type": "text"
      },
      "source": [
        "Links of the shared Weight Files:\n",
        "\n",
        "250 epochs:\n",
        "\n",
        "\thttps://drive.google.com/drive/folders/1xUVIkAGRHxXUhNj-V2-q6M7pnXSn_V4e?usp=sharing\n",
        "\n",
        "\n",
        "500 epochs:\n",
        "\n",
        "\thttps://drive.google.com/drive/folders/1nPecL3pfFkPDTQTnz3PofWWtdk-u3IZF?usp=sharing"
      ]
    },
    {
      "cell_type": "markdown",
      "metadata": {
        "id": "VyKlsoCarAE3",
        "colab_type": "text"
      },
      "source": [
        "______________________"
      ]
    },
    {
      "cell_type": "markdown",
      "metadata": {
        "id": "4EcADONlrCif",
        "colab_type": "text"
      },
      "source": [
        "Links of the shared Pickle Files:\n",
        "\n",
        "\tHalf Faces:\n",
        "  \n",
        "\t\tGround Truths:\n",
        "\n",
        "\t\t\thttps://drive.google.com/file/d/1-JVnG_wVJR3VgAwi6-Hhu2C-ZAyQ2-_9/view?usp=sharing\n",
        "\n",
        "\t\tOccluded Images:\n",
        "\t\t\thttps://drive.google.com/file/d/1-7E0x-UGFjotUH8UJAWruM9Y0rwEzYzV/view?usp=sharing\n",
        "\n",
        "\n",
        "\n",
        "\tUnrestricted Occlusions:\n",
        "\n",
        "\t\tGround Truths:\n",
        "\n",
        "\t\t\thttps://drive.google.com/file/d/19li26wV60jhrf8UtUhGH6xuocDqiHqPG/view?usp=sharing\n",
        "\n",
        "\t\tOccluded Images:\n",
        "\n",
        "\t\t\thttps://drive.google.com/file/d/179YgtbT7A0YFJsQyFULbQPgPZzdmnySA/view?usp=sharing\n"
      ]
    },
    {
      "cell_type": "markdown",
      "metadata": {
        "id": "zhLIHTlkwvBw",
        "colab_type": "text"
      },
      "source": [
        "### The Code"
      ]
    },
    {
      "cell_type": "markdown",
      "metadata": {
        "id": "PoWfF1Z226T-",
        "colab_type": "text"
      },
      "source": [
        "Step 1- Run the first 12 code cells\n"
      ]
    },
    {
      "cell_type": "code",
      "metadata": {
        "id": "3bLWZ7uNEgwk",
        "colab_type": "code",
        "outputId": "672346b5-8b97-49af-c3b2-37a6b91027ab",
        "colab": {
          "base_uri": "https://localhost:8080/",
          "height": 36
        }
      },
      "source": [
        "import numpy as np\n",
        "import matplotlib.pyplot as plt\n",
        "import pickle\n",
        "import os\n",
        "\n",
        "import keras\n",
        "import tensorflow as tf\n",
        "from keras.backend.tensorflow_backend import set_session\n",
        "\n",
        "\n",
        "from tensorflow.keras.models import Sequential\n",
        "from tensorflow.keras.layers import Activation, Flatten, Dense, Dropout, BatchNormalization\n",
        "from tensorflow.keras.layers import Conv2D, MaxPooling2D, UpSampling2D, Dropout, LeakyReLU, Conv2DTranspose, ReLU\n",
        "from tensorflow.keras.optimizers import Adam\n",
        "from tensorflow.keras.layers import Reshape\n",
        "from tensorflow.keras import layers\n",
        "import datetime\n",
        "\n",
        "from keras import initializers\n",
        "\n",
        "\n",
        "config = tf.ConfigProto()\n",
        "config.gpu_options.per_process_gpu_memory_fraction = 0.9 # fraction of memory\n",
        "config.gpu_options.visible_device_list = \"0\"\n",
        "\n",
        "set_session(tf.Session(config=config))"
      ],
      "execution_count": 1,
      "outputs": [
        {
          "output_type": "stream",
          "text": [
            "Using TensorFlow backend.\n"
          ],
          "name": "stderr"
        }
      ]
    },
    {
      "cell_type": "code",
      "metadata": {
        "id": "hQWow1vnIbGe",
        "colab_type": "code",
        "outputId": "3dbcad05-e745-445e-ac6f-ed38ddd4a224",
        "colab": {
          "base_uri": "https://localhost:8080/",
          "height": 36
        }
      },
      "source": [
        "from google.colab import drive\n",
        "drive.mount(\"/content/drive\", force_remount=False)"
      ],
      "execution_count": 2,
      "outputs": [
        {
          "output_type": "stream",
          "text": [
            "Drive already mounted at /content/drive; to attempt to forcibly remount, call drive.mount(\"/content/drive\", force_remount=True).\n"
          ],
          "name": "stdout"
        }
      ]
    },
    {
      "cell_type": "markdown",
      "metadata": {
        "id": "St-UfS4sk5sC",
        "colab_type": "text"
      },
      "source": [
        "Step 1 note: Don't forget to change pickle paths."
      ]
    },
    {
      "cell_type": "code",
      "metadata": {
        "id": "2bEPxtcJISlx",
        "colab_type": "code",
        "outputId": "707a727f-6d1c-41fa-9398-2184fdd13ee4",
        "colab": {
          "base_uri": "https://localhost:8080/",
          "height": 54
        }
      },
      "source": [
        "\n",
        "path = '/content/drive/My Drive/biometrics_data/'\n",
        "xname = '1_half_face_occluded.pickle'\n",
        "yname = '1_half_face_labels.pickle'\n",
        "pickle_in = open(os.path.join(path,xname),\"rb\")\n",
        "x = pickle.load(pickle_in)\n",
        "\n",
        "pickle_in = open(os.path.join(path,yname),\"rb\")\n",
        "y = pickle.load(pickle_in)\n",
        "\n",
        "print(x.shape)\n",
        "print(y.shape)"
      ],
      "execution_count": 3,
      "outputs": [
        {
          "output_type": "stream",
          "text": [
            "(4471, 200, 200, 1)\n",
            "(4471, 200, 200, 1)\n"
          ],
          "name": "stdout"
        }
      ]
    },
    {
      "cell_type": "code",
      "metadata": {
        "id": "cTpaol_6KMRG",
        "colab_type": "code",
        "outputId": "9b8100b2-f236-4022-d18b-ea2fc19f2021",
        "colab": {
          "base_uri": "https://localhost:8080/",
          "height": 260
        }
      },
      "source": [
        "#I use this because with 200,200 images, I exceed GPU memory.\n",
        "\n",
        "from skimage.transform import resize\n",
        "x = resize(x, (len(x),64,64,1), anti_aliasing=False)\n",
        "y = resize(y, (len(y),64,64,1), anti_aliasing=False)\n",
        "\n",
        "# Print the shape after resize\n",
        "print(x.shape)\n",
        "print(y.shape)\n",
        "\n",
        "#Draw the image to be sure occluded image is the same as the ground truth one\n",
        "fig=plt.figure(figsize=(6, 6))\n",
        "fig.add_subplot(1, 2, 1)\n",
        "plt.imshow(x[1,:,:,0],cmap=\"gray\")\n",
        "fig.add_subplot(1, 2, 2)\n",
        "plt.imshow(y[1,:,:,0],cmap=\"gray\")"
      ],
      "execution_count": 4,
      "outputs": [
        {
          "output_type": "stream",
          "text": [
            "(4471, 64, 64, 1)\n",
            "(4471, 64, 64, 1)\n"
          ],
          "name": "stdout"
        },
        {
          "output_type": "execute_result",
          "data": {
            "text/plain": [
              "<matplotlib.image.AxesImage at 0x7fe50663bac8>"
            ]
          },
          "metadata": {
            "tags": []
          },
          "execution_count": 4
        },
        {
          "output_type": "display_data",
          "data": {
            "image/png": "[encoded data removed]",
            "text/plain": [
              "<Figure size 432x432 with 2 Axes>"
            ]
          },
          "metadata": {
            "tags": []
          }
        }
      ]
    },
    {
      "cell_type": "code",
      "metadata": {
        "id": "vWxHj7P1djZv",
        "colab_type": "code",
        "outputId": "8c9fd2f8-59b4-42cc-cd4b-cec11ee3480c",
        "colab": {
          "base_uri": "https://localhost:8080/",
          "height": 204
        }
      },
      "source": [
        "#I print pixel values to be sure occluded and ground truth images are aligned\n",
        "print(x[0,0:5,0:5,0])\n",
        "print(y[0,0:5,0:5,0])"
      ],
      "execution_count": 5,
      "outputs": [
        {
          "output_type": "stream",
          "text": [
            "[[0.25130208 0.304856   0.30303309 0.34253983 0.3629136 ]\n",
            " [0.27388174 0.32608762 0.34776348 0.36331189 0.38823529]\n",
            " [0.23821998 0.30718444 0.32617953 0.38941483 0.38988971]\n",
            " [0.27643995 0.32598039 0.35706189 0.36937806 0.41199449]\n",
            " [0.2950674  0.32501532 0.3527114  0.38802083 0.40833333]]\n",
            "[[0.25130208 0.304856   0.30303309 0.34253983 0.3629136 ]\n",
            " [0.27388174 0.32608762 0.34776348 0.36331189 0.38823529]\n",
            " [0.23821998 0.30718444 0.32617953 0.38941483 0.38988971]\n",
            " [0.27643995 0.32598039 0.35706189 0.36937806 0.41199449]\n",
            " [0.2950674  0.32501532 0.3527114  0.38802083 0.40833333]]\n"
          ],
          "name": "stdout"
        }
      ]
    },
    {
      "cell_type": "code",
      "metadata": {
        "id": "PFe3-3yPEldc",
        "colab_type": "code",
        "outputId": "9b28297a-be5e-475a-8dd7-f1a5cd075768",
        "colab": {
          "base_uri": "https://localhost:8080/",
          "height": 168
        }
      },
      "source": [
        "#Here is the function to create a generator. I also use the function and create a generator in the same cell.\n",
        "def creategen():\n",
        "  generator = Sequential()\n",
        "\n",
        "\n",
        "  generator.add(Conv2D(64, (5,5) , strides = (2,2), input_shape = x.shape[1:] , padding = \"SAME\",kernel_initializer = 'random_normal'))\n",
        "  generator.add(BatchNormalization())\n",
        "  generator.add(ReLU())  \n",
        "  generator.add(Dropout(0.3))\n",
        "\n",
        "\n",
        "  generator.add(Conv2D(128, (5,5) ,  strides = (2,2),padding = \"SAME\",kernel_initializer = 'random_normal'))\n",
        "  generator.add(BatchNormalization())\n",
        "  generator.add(ReLU())  \n",
        "  generator.add(Dropout(0.3))\n",
        "\n",
        "  \n",
        "  generator.add(Conv2D(256, (5,5) ,  strides = (2,2), padding = \"SAME\",kernel_initializer = 'random_normal'))\n",
        "  generator.add(BatchNormalization())\n",
        "  generator.add(ReLU())  \n",
        "  generator.add(Dropout(0.3))\n",
        "\n",
        "  # I would use these if there was a bottleneck in the network.\n",
        "  #generator.add(Flatten())\n",
        "  \n",
        "  #generator.add(Dense(64)) \n",
        "  #generator.add(BatchNormalization())\n",
        "  #generator.add(ReLU(alpha=0.2))\n",
        "  \n",
        "  #generator.add(Dense(8*8*128)) \n",
        "  #generator.add(BatchNormalization())\n",
        "  #generator.add(ReLU(alpha=0.2))\n",
        "  \n",
        "  #generator.add(layers.Reshape((8,8,128)))\n",
        "\n",
        "\n",
        "  generator.add(Conv2DTranspose(128, (5, 5), strides=(2, 2), padding='same', use_bias=False))\n",
        "  generator.add(BatchNormalization())\n",
        "  generator.add(ReLU())\n",
        "  \n",
        "  generator.add(Conv2DTranspose(64, (5, 5), strides=(2, 2), padding='same', use_bias=False))\n",
        "  generator.add(BatchNormalization())\n",
        "  generator.add(ReLU())\n",
        "  \n",
        "  generator.add(Conv2DTranspose(1, (5, 5), strides=(2, 2), padding='same', use_bias=False, activation = \"tanh\"))\n",
        "  \n",
        "\n",
        "  return generator\n",
        "\n",
        "generator = creategen()\n",
        "\n"
      ],
      "execution_count": 6,
      "outputs": [
        {
          "output_type": "stream",
          "text": [
            "WARNING: Logging before flag parsing goes to stderr.\n",
            "W0615 12:59:44.105421 140624213170048 deprecation.py:506] From /usr/local/lib/python3.6/dist-packages/tensorflow/python/keras/initializers.py:143: calling RandomNormal.__init__ (from tensorflow.python.ops.init_ops) with dtype is deprecated and will be removed in a future version.\n",
            "Instructions for updating:\n",
            "Call initializer instance with the dtype argument instead of passing it to the constructor\n",
            "W0615 12:59:44.566210 140624213170048 deprecation.py:506] From /usr/local/lib/python3.6/dist-packages/tensorflow/python/ops/init_ops.py:1251: calling VarianceScaling.__init__ (from tensorflow.python.ops.init_ops) with dtype is deprecated and will be removed in a future version.\n",
            "Instructions for updating:\n",
            "Call initializer instance with the dtype argument instead of passing it to the constructor\n"
          ],
          "name": "stderr"
        }
      ]
    },
    {
      "cell_type": "code",
      "metadata": {
        "id": "1W9TidqzEubv",
        "colab_type": "code",
        "colab": {}
      },
      "source": [
        "#Here is the function to create a discriminator. \n",
        "#I also use the function and create a discriminator in the same cell.\n",
        "def createdisc():\n",
        "  discriminator = Sequential()\n",
        "\n",
        "  discriminator.add(Conv2D(64, (5,5) , strides = (2,2), input_shape = x.shape[1:] , padding = \"SAME\",kernel_initializer = 'random_normal'))\n",
        "  discriminator.add(BatchNormalization())\n",
        "  discriminator.add(LeakyReLU(alpha=0.2))  \n",
        "  discriminator.add(Dropout(0.3))\n",
        "\n",
        "\n",
        "  discriminator.add(Conv2D(128, (5,5) ,  strides = (2,2),padding = \"SAME\",kernel_initializer = 'random_normal'))\n",
        "  discriminator.add(BatchNormalization())\n",
        "  discriminator.add(LeakyReLU(alpha=0.2))  \n",
        "  discriminator.add(Dropout(0.3))\n",
        "\n",
        "  \n",
        "  discriminator.add(Conv2D(256, (5,5) ,  strides = (2,2), padding = \"SAME\",kernel_initializer = 'random_normal'))\n",
        "  discriminator.add(BatchNormalization())\n",
        "  discriminator.add(LeakyReLU(alpha=0.2))  \n",
        "  discriminator.add(Dropout(0.3))\n",
        "\n",
        "  \n",
        "  discriminator.add(Flatten())\n",
        "  discriminator.add(Dense(1))\n",
        "  \n",
        "  return discriminator\n",
        "\n",
        "\n",
        "discriminator = createdisc()\n",
        "\n"
      ],
      "execution_count": 0,
      "outputs": []
    },
    {
      "cell_type": "code",
      "metadata": {
        "id": "QmBb2AVRUYek",
        "colab_type": "code",
        "outputId": "e30044e3-921c-416a-c25c-94fca0188bf3",
        "colab": {
          "base_uri": "https://localhost:8080/",
          "height": 877
        }
      },
      "source": [
        "generator.summary()"
      ],
      "execution_count": 8,
      "outputs": [
        {
          "output_type": "stream",
          "text": [
            "Model: \"sequential\"\n",
            "_________________________________________________________________\n",
            "Layer (type)                 Output Shape              Param #   \n",
            "=================================================================\n",
            "conv2d (Conv2D)              (None, 32, 32, 64)        1664      \n",
            "_________________________________________________________________\n",
            "batch_normalization (BatchNo (None, 32, 32, 64)        256       \n",
            "_________________________________________________________________\n",
            "re_lu (ReLU)                 (None, 32, 32, 64)        0         \n",
            "_________________________________________________________________\n",
            "dropout (Dropout)            (None, 32, 32, 64)        0         \n",
            "_________________________________________________________________\n",
            "conv2d_1 (Conv2D)            (None, 16, 16, 128)       204928    \n",
            "_________________________________________________________________\n",
            "batch_normalization_1 (Batch (None, 16, 16, 128)       512       \n",
            "_________________________________________________________________\n",
            "re_lu_1 (ReLU)               (None, 16, 16, 128)       0         \n",
            "_________________________________________________________________\n",
            "dropout_1 (Dropout)          (None, 16, 16, 128)       0         \n",
            "_________________________________________________________________\n",
            "conv2d_2 (Conv2D)            (None, 8, 8, 256)         819456    \n",
            "_________________________________________________________________\n",
            "batch_normalization_2 (Batch (None, 8, 8, 256)         1024      \n",
            "_________________________________________________________________\n",
            "re_lu_2 (ReLU)               (None, 8, 8, 256)         0         \n",
            "_________________________________________________________________\n",
            "dropout_2 (Dropout)          (None, 8, 8, 256)         0         \n",
            "_________________________________________________________________\n",
            "conv2d_transpose (Conv2DTran (None, 16, 16, 128)       819200    \n",
            "_________________________________________________________________\n",
            "batch_normalization_3 (Batch (None, 16, 16, 128)       512       \n",
            "_________________________________________________________________\n",
            "re_lu_3 (ReLU)               (None, 16, 16, 128)       0         \n",
            "_________________________________________________________________\n",
            "conv2d_transpose_1 (Conv2DTr (None, 32, 32, 64)        204800    \n",
            "_________________________________________________________________\n",
            "batch_normalization_4 (Batch (None, 32, 32, 64)        256       \n",
            "_________________________________________________________________\n",
            "re_lu_4 (ReLU)               (None, 32, 32, 64)        0         \n",
            "_________________________________________________________________\n",
            "conv2d_transpose_2 (Conv2DTr (None, 64, 64, 1)         1600      \n",
            "=================================================================\n",
            "Total params: 2,054,208\n",
            "Trainable params: 2,052,928\n",
            "Non-trainable params: 1,280\n",
            "_________________________________________________________________\n"
          ],
          "name": "stdout"
        }
      ]
    },
    {
      "cell_type": "code",
      "metadata": {
        "id": "ZadB3ZS4vzoR",
        "colab_type": "code",
        "outputId": "57875b87-91d1-47f0-e0af-06c2af483a6e",
        "colab": {
          "base_uri": "https://localhost:8080/",
          "height": 690
        }
      },
      "source": [
        "# Learning rate of discriminator is advised to be the double of the generator. \n",
        "# I train the generator two times in each step of training. First is with Gan loss, second is with L2 loss.\n",
        "# That is why I use x4 learning rate in discriminator.\n",
        "\n",
        "opt_disc = Adam(lr=0.00004)\n",
        "discriminator.trainable = True\n",
        "discriminator.compile(loss = \"binary_crossentropy\", optimizer = opt_disc)\n",
        "discriminator.summary()"
      ],
      "execution_count": 9,
      "outputs": [
        {
          "output_type": "stream",
          "text": [
            "Model: \"sequential_1\"\n",
            "_________________________________________________________________\n",
            "Layer (type)                 Output Shape              Param #   \n",
            "=================================================================\n",
            "conv2d_3 (Conv2D)            (None, 32, 32, 64)        1664      \n",
            "_________________________________________________________________\n",
            "batch_normalization_5 (Batch (None, 32, 32, 64)        256       \n",
            "_________________________________________________________________\n",
            "leaky_re_lu (LeakyReLU)      (None, 32, 32, 64)        0         \n",
            "_________________________________________________________________\n",
            "dropout_3 (Dropout)          (None, 32, 32, 64)        0         \n",
            "_________________________________________________________________\n",
            "conv2d_4 (Conv2D)            (None, 16, 16, 128)       204928    \n",
            "_________________________________________________________________\n",
            "batch_normalization_6 (Batch (None, 16, 16, 128)       512       \n",
            "_________________________________________________________________\n",
            "leaky_re_lu_1 (LeakyReLU)    (None, 16, 16, 128)       0         \n",
            "_________________________________________________________________\n",
            "dropout_4 (Dropout)          (None, 16, 16, 128)       0         \n",
            "_________________________________________________________________\n",
            "conv2d_5 (Conv2D)            (None, 8, 8, 256)         819456    \n",
            "_________________________________________________________________\n",
            "batch_normalization_7 (Batch (None, 8, 8, 256)         1024      \n",
            "_________________________________________________________________\n",
            "leaky_re_lu_2 (LeakyReLU)    (None, 8, 8, 256)         0         \n",
            "_________________________________________________________________\n",
            "dropout_5 (Dropout)          (None, 8, 8, 256)         0         \n",
            "_________________________________________________________________\n",
            "flatten (Flatten)            (None, 16384)             0         \n",
            "_________________________________________________________________\n",
            "dense (Dense)                (None, 1)                 16385     \n",
            "=================================================================\n",
            "Total params: 1,044,225\n",
            "Trainable params: 1,043,329\n",
            "Non-trainable params: 896\n",
            "_________________________________________________________________\n"
          ],
          "name": "stdout"
        }
      ]
    },
    {
      "cell_type": "code",
      "metadata": {
        "id": "k3wLocRlM2fY",
        "colab_type": "code",
        "outputId": "6d3d7308-3ff3-4660-f0bc-b485acc93287",
        "colab": {
          "base_uri": "https://localhost:8080/",
          "height": 877
        }
      },
      "source": [
        "opt_gen = Adam(lr=0.00001)\n",
        "generator.compile(loss='mean_squared_error', optimizer = opt_gen)\n",
        "generator.summary()"
      ],
      "execution_count": 10,
      "outputs": [
        {
          "output_type": "stream",
          "text": [
            "Model: \"sequential\"\n",
            "_________________________________________________________________\n",
            "Layer (type)                 Output Shape              Param #   \n",
            "=================================================================\n",
            "conv2d (Conv2D)              (None, 32, 32, 64)        1664      \n",
            "_________________________________________________________________\n",
            "batch_normalization (BatchNo (None, 32, 32, 64)        256       \n",
            "_________________________________________________________________\n",
            "re_lu (ReLU)                 (None, 32, 32, 64)        0         \n",
            "_________________________________________________________________\n",
            "dropout (Dropout)            (None, 32, 32, 64)        0         \n",
            "_________________________________________________________________\n",
            "conv2d_1 (Conv2D)            (None, 16, 16, 128)       204928    \n",
            "_________________________________________________________________\n",
            "batch_normalization_1 (Batch (None, 16, 16, 128)       512       \n",
            "_________________________________________________________________\n",
            "re_lu_1 (ReLU)               (None, 16, 16, 128)       0         \n",
            "_________________________________________________________________\n",
            "dropout_1 (Dropout)          (None, 16, 16, 128)       0         \n",
            "_________________________________________________________________\n",
            "conv2d_2 (Conv2D)            (None, 8, 8, 256)         819456    \n",
            "_________________________________________________________________\n",
            "batch_normalization_2 (Batch (None, 8, 8, 256)         1024      \n",
            "_________________________________________________________________\n",
            "re_lu_2 (ReLU)               (None, 8, 8, 256)         0         \n",
            "_________________________________________________________________\n",
            "dropout_2 (Dropout)          (None, 8, 8, 256)         0         \n",
            "_________________________________________________________________\n",
            "conv2d_transpose (Conv2DTran (None, 16, 16, 128)       819200    \n",
            "_________________________________________________________________\n",
            "batch_normalization_3 (Batch (None, 16, 16, 128)       512       \n",
            "_________________________________________________________________\n",
            "re_lu_3 (ReLU)               (None, 16, 16, 128)       0         \n",
            "_________________________________________________________________\n",
            "conv2d_transpose_1 (Conv2DTr (None, 32, 32, 64)        204800    \n",
            "_________________________________________________________________\n",
            "batch_normalization_4 (Batch (None, 32, 32, 64)        256       \n",
            "_________________________________________________________________\n",
            "re_lu_4 (ReLU)               (None, 32, 32, 64)        0         \n",
            "_________________________________________________________________\n",
            "conv2d_transpose_2 (Conv2DTr (None, 64, 64, 1)         1600      \n",
            "=================================================================\n",
            "Total params: 2,054,208\n",
            "Trainable params: 2,052,928\n",
            "Non-trainable params: 1,280\n",
            "_________________________________________________________________\n"
          ],
          "name": "stdout"
        }
      ]
    },
    {
      "cell_type": "code",
      "metadata": {
        "id": "bLMiISsSFQyL",
        "colab_type": "code",
        "colab": {}
      },
      "source": [
        "#Here is the function to create a GAN model. I also use the function and create GAN model in the same cell.\n",
        "\n",
        "def creategan(generator,discriminator):\n",
        "  gan = Sequential()\n",
        "  gan.add(generator)\n",
        "  discriminator.trainable = False\n",
        "  gan.add(discriminator)\n",
        "  return(gan)\n",
        "\n",
        "gan = creategan(generator,discriminator)"
      ],
      "execution_count": 0,
      "outputs": []
    },
    {
      "cell_type": "code",
      "metadata": {
        "id": "NCaQuj77wZ8W",
        "colab_type": "code",
        "outputId": "2cee3a22-bb8c-49a2-bfc7-e4a5659cf474",
        "colab": {
          "base_uri": "https://localhost:8080/",
          "height": 241
        }
      },
      "source": [
        "opt_gan = Adam(lr=0.00001)\n",
        "gan.compile(loss = \"binary_crossentropy\", optimizer = opt_gan)\n",
        "gan.summary()"
      ],
      "execution_count": 12,
      "outputs": [
        {
          "output_type": "stream",
          "text": [
            "Model: \"sequential_2\"\n",
            "_________________________________________________________________\n",
            "Layer (type)                 Output Shape              Param #   \n",
            "=================================================================\n",
            "sequential (Sequential)      (None, 64, 64, 1)         2054208   \n",
            "_________________________________________________________________\n",
            "sequential_1 (Sequential)    (None, 1)                 1044225   \n",
            "=================================================================\n",
            "Total params: 3,098,433\n",
            "Trainable params: 2,052,928\n",
            "Non-trainable params: 1,045,505\n",
            "_________________________________________________________________\n"
          ],
          "name": "stdout"
        }
      ]
    },
    {
      "cell_type": "code",
      "metadata": {
        "id": "wi-J96roLL9W",
        "colab_type": "code",
        "colab": {}
      },
      "source": [
        "# This is to save models. It saves both the architectures and the weights.\n",
        "# While loading the model, you will only need weights since you declared the architecture in the previous cells.\n",
        "\n",
        "def save_models(gan,discriminator,generator,path,epoch):\n",
        "  datenow = str(datetime.datetime.now().strftime('%m-%d-%H:%M'))\n",
        "  gan.save_weights(os.path.join(path,\"{0}_wgan_{1}.h5\".format(epoch,datenow)))\n",
        "  gan.save(os.path.join(path,\"{0}_mgan_{1}.h5\".format(epoch,datenow)))\n",
        "\n",
        "\n",
        "  discriminator.save_weights(os.path.join(path,\"{0}_wd_{1}.h5\".format(epoch,datenow)))\n",
        "  discriminator.save(os.path.join(path,\"{0}_md_{1}.h5\".format(epoch,datenow)))\n",
        "\n",
        "\n",
        "  generator.save_weights(os.path.join(path,\"{0}_wg_{1}.h5\".format(epoch,datenow)))\n",
        "  generator.save(os.path.join(path,\"{0}_mg_{1}.h5\".format(epoch,datenow)))\n",
        "  \n",
        "\n",
        "  \n"
      ],
      "execution_count": 0,
      "outputs": []
    },
    {
      "cell_type": "code",
      "metadata": {
        "id": "tpfaOehsWRKw",
        "colab_type": "code",
        "colab": {}
      },
      "source": [
        "# This is to obtain test losses in each training step. I use this function in the \"train\" function.\n",
        "def test(x,y):\n",
        "  gan_inp_t = x  \n",
        "  gan_label_t = np.ones([len(gan_inp_t)])\n",
        "  gan_predict_t = None\n",
        "  \n",
        "  disc_inp_t = None\n",
        "\n",
        "\n",
        "  disc_label_t = np.zeros([len(gan_inp_t)*2])\n",
        "  disc_label_t[len(gan_inp_t):] = 1\n",
        "  \n",
        "  disc_predict_t = None\n",
        "  \n",
        "\n",
        "  gen_predict_t = generator.predict(gan_inp_t)\n",
        "\n",
        "\n",
        "  disc_inp_t = np.concatenate((gen_predict_t,y), axis = 0)\n",
        "  disc_predict_t = discriminator.predict(disc_inp_t)\n",
        "\n",
        "  d_loss_t = discriminator.test_on_batch(disc_inp_t,disc_label_t)\n",
        "\n",
        "  gan_loss_t = gan.test_on_batch(gan_inp_t,gan_label_t)\n",
        "  \n",
        "  return (gan_loss_t, d_loss_t)"
      ],
      "execution_count": 0,
      "outputs": []
    },
    {
      "cell_type": "code",
      "metadata": {
        "id": "W7vPoV2QlqyU",
        "colab_type": "code",
        "colab": {}
      },
      "source": [
        "# In the previous versions, I used this function to pretrain the discriminator in each training step.\n",
        "# I do not use this function in this version.\n",
        "def pretrain(x,y,nepoch):\n",
        "    \n",
        "  gen_predict = None\n",
        "  \n",
        "  \n",
        "  gan_inp = x  \n",
        "  gan_label = np.ones(64)\n",
        "  gan_predict = None\n",
        "  \n",
        "  disc_inp = None\n",
        "\n",
        "\n",
        "  disc_label = np.zeros(64*2)\n",
        "  disc_label[64:] = 1\n",
        "  \n",
        "  disc_predict = None\n",
        "  \n",
        "  \n",
        "  for epoch in range(nepoch):\n",
        "    for batch_ctr in range(65):\n",
        "\n",
        "\n",
        "      gen_predict = generator.predict(gan_inp[batch_ctr*64:(batch_ctr+1)*64])\n",
        "\n",
        "\n",
        "      disc_inp = np.concatenate((gen_predict,y[batch_ctr*64:(batch_ctr+1)*64]), axis = 0)\n",
        "      disc_predict = discriminator.predict(disc_inp)\n",
        "\n",
        "\n",
        "\n",
        "      d_loss = discriminator.train_on_batch(disc_inp,disc_label)\n",
        "\n",
        "\n",
        "      gan_loss = gan.test_on_batch(gan_inp[batch_ctr*64:(batch_ctr+1)*64],\n",
        "                                    gan_label)\n",
        "    \n",
        "\n",
        "    (tgan,tdisc)= test(x[4160:],y[4160:])\n",
        "    print(\"Pretrain Epoch Gan Loss: {0}       Disc Loss: {1}\".format(gan_loss,d_loss))\n",
        "    print(\"Pretrain Epoch Test Gan Loss: {0}  Test Disc Loss: {1} \\n\\n\\n\".format(tgan,tdisc))"
      ],
      "execution_count": 0,
      "outputs": []
    },
    {
      "cell_type": "code",
      "metadata": {
        "id": "XiZh2paxOHTd",
        "colab_type": "code",
        "colab": {}
      },
      "source": [
        "# I use isolated mini batches to slow down discriminator:\n",
        "# I also use smooth/noisy labels proposed by Salimans et al 2016\n",
        "# Reference: https://github.com/soumith/ganhacks\n",
        "\n",
        "\n",
        "\n",
        "def train(x,y, nepoch, model_save_path = \"/content/drive/My Drive/biometrics_data/models/dummymodel\"):\n",
        "\n",
        "  gen_predict = None\n",
        "  \n",
        "  #Initialize the inputs and the labels.\n",
        "  gan_inp = x  \n",
        "  gan_label = np.ones(64)\n",
        "  gan_predict = None\n",
        "  \n",
        "  disc_inp = None\n",
        "\n",
        "\n",
        "  disc_label = np.zeros(64*2)\n",
        "  disc_label[64:] = 1\n",
        "  \n",
        "  disc_predict = None\n",
        "  \n",
        "\n",
        "  sess = tf.Session()\n",
        "  \n",
        "\n",
        "  for epoch in range(nepoch):\n",
        "\n",
        "    for batch_ctr in range(65):\n",
        "\n",
        "      #Generator makes a prediction.\n",
        "      gen_predict = generator.predict(gan_inp[batch_ctr*64:(batch_ctr+1)*64])\n",
        "\n",
        "\n",
        "      #Minibatch isolation and label smoothing is done here:\n",
        "      \n",
        "      if(epoch%2==0):\n",
        "        disc_inp = gen_predict\n",
        "        #disc_label = np.zeros(64) //// I would use this line if there was no noisy labels.\n",
        "        disc_label = np.random.normal(loc=0, scale=0.10, size=64)\n",
        "      else:\n",
        "        disc_inp = y[batch_ctr*64:(batch_ctr+1)*64]\n",
        "        #disc_label = np.ones(64)  //// I would use this line if there was no noisy labels.\n",
        "        disc_label = np.random.normal(loc=1, scale=0.10, size=64)\n",
        "\n",
        "\n",
        "        \n",
        "      #Initialize a label variable for generator to use it in training.  \n",
        "      gen_label = y[batch_ctr*64:(batch_ctr+1)*64]\n",
        "      \n",
        "      \n",
        "      #Do one training step. Also assign the losses to variables. We will print them.\n",
        "      d_loss = discriminator.train_on_batch(disc_inp,disc_label)\n",
        "\n",
        "\n",
        "      gan_loss = gan.train_on_batch(gan_inp[batch_ctr*64:(batch_ctr+1)*64],\n",
        "                                    gan_label)\n",
        "\n",
        "      gen_loss = generator.train_on_batch(gan_inp[batch_ctr*64:(batch_ctr+1)*64],gen_label)\n",
        "      \n",
        "    \n",
        "    \n",
        "    if epoch+1%500 == 0:\n",
        "      save_models(gan,discriminator,generator, model_save_path,epoch+1)  \n",
        "      print(\"MODEL SAVED\")\n",
        "      \n",
        "    \n",
        "    # Test images are the images after the 4160th image. It makes 311 test images.\n",
        "    (tgan,tdisc)= test(x[4160:],y[4160:])\n",
        "    print(\"Epoch: {2} Gan Loss: {0}       Disc Loss: {1}        Gen Loss: {3}\".format(gan_loss,d_loss,epoch+1,gen_loss))\n",
        "    print(\"Epoch: {2} Test Gan Loss: {0}  Test Disc Loss: {1} \\n\\n\\n\".format(tgan,tdisc,epoch+1))"
      ],
      "execution_count": 0,
      "outputs": []
    },
    {
      "cell_type": "code",
      "metadata": {
        "id": "JmhHddBiTVjK",
        "colab_type": "code",
        "outputId": "65d1bd4d-2217-428e-e514-1d92f9ac7e90",
        "colab": {
          "base_uri": "https://localhost:8080/",
          "height": 73
        }
      },
      "source": [
        "# Checking lengths of the input and ground truth arrays. Also checking if normalization is done.\n",
        "print(len(x),len(y))\n",
        "print(x.max(),x.min())\n",
        "print(y.max(),y.min())\n"
      ],
      "execution_count": 17,
      "outputs": [
        {
          "output_type": "stream",
          "text": [
            "4471 4471\n",
            "1.0 0.0\n",
            "1.0 0.0\n"
          ],
          "name": "stdout"
        }
      ]
    },
    {
      "cell_type": "markdown",
      "metadata": {
        "id": "tcWGd0HNqQK2",
        "colab_type": "text"
      },
      "source": [
        "If you would like to make trainings, don't forget to modify \"model_save_path\" variable."
      ]
    },
    {
      "cell_type": "code",
      "metadata": {
        "id": "WB3UtK6-1MlK",
        "colab_type": "code",
        "colab": {
          "base_uri": "https://localhost:8080/",
          "height": 56
        },
        "outputId": "c04caa22-ac8a-4d3d-a634-51b4576cf87d"
      },
      "source": [
        "# Use this cell if you have loaded and viewed the results, and want to train further.\n",
        "# If you start the model from beginning, using above cells where I declare \n",
        "# generator architecture, discriminator architecture etc. , you don't need to use this cell since\n",
        "# I already compile the models in above cells.\n",
        "\n",
        "\n",
        "# Learning rate of discriminator is advised to be the double of the generator. \n",
        "# I train the generator two times in each step of training. First is with Gan loss, second is with L2 loss.\n",
        "# That is why I use x4 learning rate in discriminator.\n",
        "\n",
        "\"\"\"opt_disc = Adam(lr=0.00004)\n",
        "discriminator.trainable = True\n",
        "discriminator.compile(loss = \"binary_crossentropy\", optimizer = opt_disc)\n",
        "discriminator.summary()\n",
        "\n",
        "opt_gen = Adam(lr=0.00001)\n",
        "generator.compile(loss='mean_squared_error', optimizer = opt_gen)\n",
        "generator.summary()\n",
        "\n",
        "opt_gan = Adam(lr=0.00001)\n",
        "gan.compile(loss = \"binary_crossentropy\", optimizer = opt_gan)\n",
        "gan.summary()\"\"\""
      ],
      "execution_count": 18,
      "outputs": [
        {
          "output_type": "execute_result",
          "data": {
            "text/plain": [
              "'opt_disc = Adam(lr=0.00004)\\ndiscriminator.trainable = True\\ndiscriminator.compile(loss = \"binary_crossentropy\", optimizer = opt_disc)\\ndiscriminator.summary()\\n\\nopt_gen = Adam(lr=0.00001)\\ngenerator.compile(loss=\\'mean_squared_error\\', optimizer = opt_gen)\\ngenerator.summary()\\n\\nopt_gan = Adam(lr=0.00001)\\ngan.compile(loss = \"binary_crossentropy\", optimizer = opt_gan)\\ngan.summary()'"
            ]
          },
          "metadata": {
            "tags": []
          },
          "execution_count": 18
        }
      ]
    },
    {
      "cell_type": "code",
      "metadata": {
        "id": "J4yECos4QNIe",
        "colab_type": "code",
        "outputId": "71efe16a-5609-41ec-baa6-789ab1853646",
        "colab": {
          "base_uri": "https://localhost:8080/",
          "height": 11494
        }
      },
      "source": [
        "# To train, don't forget to:\n",
        "# -compile the models\n",
        "# - run the necessary cells to declare the necessary functions such as \"train\" and \"save_models\" and \"test\"\n",
        "\n",
        "#If you train models from beginning, just run the cells of the notebook in order.\n",
        "\n",
        "#If you want to further train loaded models, use the previous cell to compile models.\n",
        "\n",
        "model_save_path = \"/content/drive/My Drive/biometrics_data/models/half_face\"\n",
        "batch_size = 64\n",
        "train(x,y,504,model_save_path)"
      ],
      "execution_count": 19,
      "outputs": [
        {
          "output_type": "stream",
          "text": [
            "W0615 12:59:49.312861 140624213170048 training.py:2197] Discrepancy between trainable weights and collected trainable weights, did you set `model.trainable` without calling `model.compile` after ?\n",
            "W0615 12:59:49.426358 140624213170048 deprecation.py:323] From /usr/local/lib/python3.6/dist-packages/tensorflow/python/ops/math_grad.py:1250: add_dispatch_support.<locals>.wrapper (from tensorflow.python.ops.array_ops) is deprecated and will be removed in a future version.\n",
            "Instructions for updating:\n",
            "Use tf.where in 2.0, which has the same broadcast rule as np.where\n"
          ],
          "name": "stderr"
        },
        {
          "output_type": "stream",
          "text": [
            "Epoch: 1 Gan Loss: 15.424948692321777       Disc Loss: 0.02699965238571167        Gen Loss: 0.33917707204818726\n",
            "Epoch: 1 Test Gan Loss: 15.424947738647461  Test Disc Loss: 7.67417049407959 \n",
            "\n",
            "\n",
            "\n",
            "Epoch: 2 Gan Loss: 0.31460461020469666       Disc Loss: -0.003959421068429947        Gen Loss: 0.19448310136795044\n",
            "Epoch: 2 Test Gan Loss: 1.8346877098083496  Test Disc Loss: 0.0897170677781105 \n",
            "\n",
            "\n",
            "\n",
            "Epoch: 3 Gan Loss: 7.74964714050293       Disc Loss: 0.46623095870018005        Gen Loss: 0.11904726922512054\n",
            "Epoch: 3 Test Gan Loss: 6.344828128814697  Test Disc Loss: 0.031923647969961166 \n",
            "\n",
            "\n",
            "\n",
            "Epoch: 4 Gan Loss: 0.5525617599487305       Disc Loss: 0.1054864227771759        Gen Loss: 0.07899534702301025\n",
            "Epoch: 4 Test Gan Loss: 1.0162090063095093  Test Disc Loss: 0.2520448863506317 \n",
            "\n",
            "\n",
            "\n",
            "Epoch: 5 Gan Loss: 13.94118881225586       Disc Loss: 0.21348145604133606        Gen Loss: 0.05697213113307953\n",
            "Epoch: 5 Test Gan Loss: 2.1777305603027344  Test Disc Loss: 0.5405696630477905 \n",
            "\n",
            "\n",
            "\n",
            "Epoch: 6 Gan Loss: 1.1652345657348633       Disc Loss: 0.34193843603134155        Gen Loss: 0.04352438822388649\n",
            "Epoch: 6 Test Gan Loss: 1.289751648902893  Test Disc Loss: 0.4380815625190735 \n",
            "\n",
            "\n",
            "\n",
            "Epoch: 7 Gan Loss: 12.961828231811523       Disc Loss: 0.1835959553718567        Gen Loss: 0.03524559736251831\n",
            "Epoch: 7 Test Gan Loss: 15.424947738647461  Test Disc Loss: 6.790205478668213 \n",
            "\n",
            "\n",
            "\n",
            "Epoch: 8 Gan Loss: 1.99534273147583       Disc Loss: 0.4222114086151123        Gen Loss: 0.029434099793434143\n",
            "Epoch: 8 Test Gan Loss: 4.8378496170043945  Test Disc Loss: 0.8912221193313599 \n",
            "\n",
            "\n",
            "\n",
            "Epoch: 9 Gan Loss: 15.201812744140625       Disc Loss: 0.3136347830295563        Gen Loss: 0.0258655846118927\n",
            "Epoch: 9 Test Gan Loss: 15.424947738647461  Test Disc Loss: 7.7124738693237305 \n",
            "\n",
            "\n",
            "\n",
            "Epoch: 10 Gan Loss: 2.1075057983398438       Disc Loss: 0.21538345515727997        Gen Loss: 0.02320854179561138\n",
            "Epoch: 10 Test Gan Loss: 15.424947738647461  Test Disc Loss: 7.7124738693237305 \n",
            "\n",
            "\n",
            "\n",
            "Epoch: 11 Gan Loss: 14.046333312988281       Disc Loss: 0.1251121312379837        Gen Loss: 0.021051090210676193\n",
            "Epoch: 11 Test Gan Loss: 15.424947738647461  Test Disc Loss: 7.7124738693237305 \n",
            "\n",
            "\n",
            "\n",
            "Epoch: 12 Gan Loss: 8.495137214660645       Disc Loss: 1.725151777267456        Gen Loss: 0.01963164657354355\n",
            "Epoch: 12 Test Gan Loss: 15.424947738647461  Test Disc Loss: 7.7124738693237305 \n",
            "\n",
            "\n",
            "\n",
            "Epoch: 13 Gan Loss: 13.648599624633789       Disc Loss: 0.44448351860046387        Gen Loss: 0.018552610650658607\n",
            "Epoch: 13 Test Gan Loss: 15.424947738647461  Test Disc Loss: 7.7124738693237305 \n",
            "\n",
            "\n",
            "\n",
            "Epoch: 14 Gan Loss: 2.022308588027954       Disc Loss: 0.5880019664764404        Gen Loss: 0.017709016799926758\n",
            "Epoch: 14 Test Gan Loss: 14.663421630859375  Test Disc Loss: 2.688899278640747 \n",
            "\n",
            "\n",
            "\n",
            "Epoch: 15 Gan Loss: 4.689872741699219       Disc Loss: 7.412837982177734        Gen Loss: 0.017097219824790955\n",
            "Epoch: 15 Test Gan Loss: 15.424947738647461  Test Disc Loss: 6.949312210083008 \n",
            "\n",
            "\n",
            "\n",
            "Epoch: 16 Gan Loss: 4.610850811004639       Disc Loss: 0.9511827230453491        Gen Loss: 0.016517356038093567\n",
            "Epoch: 16 Test Gan Loss: 15.424947738647461  Test Disc Loss: 6.880469799041748 \n",
            "\n",
            "\n",
            "\n",
            "Epoch: 17 Gan Loss: 9.117307662963867       Disc Loss: 2.1202144622802734        Gen Loss: 0.016009092330932617\n",
            "Epoch: 17 Test Gan Loss: 15.424947738647461  Test Disc Loss: 7.7124738693237305 \n",
            "\n",
            "\n",
            "\n",
            "Epoch: 18 Gan Loss: 5.239142417907715       Disc Loss: 0.7419081330299377        Gen Loss: 0.015534947626292706\n",
            "Epoch: 18 Test Gan Loss: 15.424947738647461  Test Disc Loss: 7.557852745056152 \n",
            "\n",
            "\n",
            "\n",
            "Epoch: 19 Gan Loss: 9.7306547164917       Disc Loss: 2.606595516204834        Gen Loss: 0.015380153432488441\n",
            "Epoch: 19 Test Gan Loss: 15.424947738647461  Test Disc Loss: 7.7124738693237305 \n",
            "\n",
            "\n",
            "\n",
            "Epoch: 20 Gan Loss: 5.54709529876709       Disc Loss: 2.307659864425659        Gen Loss: 0.015129057690501213\n",
            "Epoch: 20 Test Gan Loss: 15.424947738647461  Test Disc Loss: 7.656790733337402 \n",
            "\n",
            "\n",
            "\n",
            "Epoch: 21 Gan Loss: 12.66595458984375       Disc Loss: 1.2289468050003052        Gen Loss: 0.014805477112531662\n",
            "Epoch: 21 Test Gan Loss: 15.424947738647461  Test Disc Loss: 7.7124738693237305 \n",
            "\n",
            "\n",
            "\n",
            "Epoch: 22 Gan Loss: 6.429646015167236       Disc Loss: 0.9434088468551636        Gen Loss: 0.014401130378246307\n",
            "Epoch: 22 Test Gan Loss: 15.424947738647461  Test Disc Loss: 7.4996113777160645 \n",
            "\n",
            "\n",
            "\n",
            "Epoch: 23 Gan Loss: 11.98563289642334       Disc Loss: 1.0195587873458862        Gen Loss: 0.014078633859753609\n",
            "Epoch: 23 Test Gan Loss: 15.424947738647461  Test Disc Loss: 7.7124738693237305 \n",
            "\n",
            "\n",
            "\n",
            "Epoch: 24 Gan Loss: 6.215508937835693       Disc Loss: 1.6141325235366821        Gen Loss: 0.013860593549907207\n",
            "Epoch: 24 Test Gan Loss: 15.424947738647461  Test Disc Loss: 7.5933942794799805 \n",
            "\n",
            "\n",
            "\n",
            "Epoch: 25 Gan Loss: 14.494616508483887       Disc Loss: 0.0641084611415863        Gen Loss: 0.013749516569077969\n",
            "Epoch: 25 Test Gan Loss: 15.424947738647461  Test Disc Loss: 7.7124738693237305 \n",
            "\n",
            "\n",
            "\n",
            "Epoch: 26 Gan Loss: 7.710699081420898       Disc Loss: 1.6857231855392456        Gen Loss: 0.01353183202445507\n",
            "Epoch: 26 Test Gan Loss: 15.424947738647461  Test Disc Loss: 7.594416618347168 \n",
            "\n",
            "\n",
            "\n",
            "Epoch: 27 Gan Loss: 4.543856620788574       Disc Loss: 8.974237442016602        Gen Loss: 0.013335399329662323\n",
            "Epoch: 27 Test Gan Loss: 15.424947738647461  Test Disc Loss: 7.0799455642700195 \n",
            "\n",
            "\n",
            "\n",
            "Epoch: 28 Gan Loss: 11.279983520507812       Disc Loss: 2.772855758666992        Gen Loss: 0.013258758001029491\n",
            "Epoch: 28 Test Gan Loss: 15.424947738647461  Test Disc Loss: 7.7124738693237305 \n",
            "\n",
            "\n",
            "\n",
            "Epoch: 29 Gan Loss: 12.171736717224121       Disc Loss: 1.5828759670257568        Gen Loss: 0.012966953217983246\n",
            "Epoch: 29 Test Gan Loss: 15.424947738647461  Test Disc Loss: 7.7124738693237305 \n",
            "\n",
            "\n",
            "\n",
            "Epoch: 30 Gan Loss: 7.339411735534668       Disc Loss: 2.11545467376709        Gen Loss: 0.012769690714776516\n",
            "Epoch: 30 Test Gan Loss: 15.424947738647461  Test Disc Loss: 7.7124738693237305 \n",
            "\n",
            "\n",
            "\n",
            "Epoch: 31 Gan Loss: 10.36076545715332       Disc Loss: 2.7505433559417725        Gen Loss: 0.012860476970672607\n",
            "Epoch: 31 Test Gan Loss: 15.424947738647461  Test Disc Loss: 7.7124738693237305 \n",
            "\n",
            "\n",
            "\n",
            "Epoch: 32 Gan Loss: 7.268618583679199       Disc Loss: 1.0947113037109375        Gen Loss: 0.012427715584635735\n",
            "Epoch: 32 Test Gan Loss: 15.424947738647461  Test Disc Loss: 7.670627593994141 \n",
            "\n",
            "\n",
            "\n",
            "Epoch: 33 Gan Loss: 10.118368148803711       Disc Loss: 1.8365709781646729        Gen Loss: 0.012465642765164375\n",
            "Epoch: 33 Test Gan Loss: 15.424947738647461  Test Disc Loss: 7.7124738693237305 \n",
            "\n",
            "\n",
            "\n",
            "Epoch: 34 Gan Loss: 8.876309394836426       Disc Loss: 1.4785875082015991        Gen Loss: 0.012199214659631252\n",
            "Epoch: 34 Test Gan Loss: 15.424947738647461  Test Disc Loss: 7.5736894607543945 \n",
            "\n",
            "\n",
            "\n",
            "Epoch: 35 Gan Loss: 12.048130989074707       Disc Loss: 1.2446041107177734        Gen Loss: 0.012167439796030521\n",
            "Epoch: 35 Test Gan Loss: 15.424947738647461  Test Disc Loss: 7.650873184204102 \n",
            "\n",
            "\n",
            "\n",
            "Epoch: 36 Gan Loss: 8.5739164352417       Disc Loss: 1.5324403047561646        Gen Loss: 0.012009061872959137\n",
            "Epoch: 36 Test Gan Loss: 15.309455871582031  Test Disc Loss: 6.175200939178467 \n",
            "\n",
            "\n",
            "\n",
            "Epoch: 37 Gan Loss: 12.265339851379395       Disc Loss: 1.2566832304000854        Gen Loss: 0.011833412572741508\n",
            "Epoch: 37 Test Gan Loss: 15.424947738647461  Test Disc Loss: 7.490398406982422 \n",
            "\n",
            "\n",
            "\n",
            "Epoch: 38 Gan Loss: 9.892889022827148       Disc Loss: 1.6172921657562256        Gen Loss: 0.011721329763531685\n",
            "Epoch: 38 Test Gan Loss: 15.3506441116333  Test Disc Loss: 6.501123905181885 \n",
            "\n",
            "\n",
            "\n",
            "Epoch: 39 Gan Loss: 12.944127082824707       Disc Loss: 1.0426735877990723        Gen Loss: 0.011610964313149452\n",
            "Epoch: 39 Test Gan Loss: 15.424947738647461  Test Disc Loss: 7.49202823638916 \n",
            "\n",
            "\n",
            "\n",
            "Epoch: 40 Gan Loss: 12.467544555664062       Disc Loss: 2.030938148498535        Gen Loss: 0.011423252522945404\n",
            "Epoch: 40 Test Gan Loss: 15.348237037658691  Test Disc Loss: 6.323350429534912 \n",
            "\n",
            "\n",
            "\n",
            "Epoch: 41 Gan Loss: 11.470159530639648       Disc Loss: 1.9914510250091553        Gen Loss: 0.01149333268404007\n",
            "Epoch: 41 Test Gan Loss: 15.424947738647461  Test Disc Loss: 6.9698872566223145 \n",
            "\n",
            "\n",
            "\n",
            "Epoch: 42 Gan Loss: 8.58975601196289       Disc Loss: 2.0577313899993896        Gen Loss: 0.011358722113072872\n",
            "Epoch: 42 Test Gan Loss: 15.221900939941406  Test Disc Loss: 4.1962080001831055 \n",
            "\n",
            "\n",
            "\n",
            "Epoch: 43 Gan Loss: 13.755644798278809       Disc Loss: -0.34225353598594666        Gen Loss: 0.01132967323064804\n",
            "Epoch: 43 Test Gan Loss: 15.424947738647461  Test Disc Loss: 6.941848278045654 \n",
            "\n",
            "\n",
            "\n",
            "Epoch: 44 Gan Loss: 1.9184671640396118       Disc Loss: 1.035881519317627        Gen Loss: 0.011152571067214012\n",
            "Epoch: 44 Test Gan Loss: 0.11766380816698074  Test Disc Loss: 4.475856781005859 \n",
            "\n",
            "\n",
            "\n",
            "Epoch: 45 Gan Loss: 2.5725290775299072       Disc Loss: 10.436234474182129        Gen Loss: 0.010974965058267117\n",
            "Epoch: 45 Test Gan Loss: 0.0715860053896904  Test Disc Loss: 5.566915035247803 \n",
            "\n",
            "\n",
            "\n",
            "Epoch: 46 Gan Loss: 2.3342199325561523       Disc Loss: 1.1367430686950684        Gen Loss: 0.011096653528511524\n",
            "Epoch: 46 Test Gan Loss: 0.07348702847957611  Test Disc Loss: 5.5028886795043945 \n",
            "\n",
            "\n",
            "\n",
            "Epoch: 47 Gan Loss: 5.336105823516846       Disc Loss: 6.952095031738281        Gen Loss: 0.010939921252429485\n",
            "Epoch: 47 Test Gan Loss: 0.15315744280815125  Test Disc Loss: 3.9971134662628174 \n",
            "\n",
            "\n",
            "\n",
            "Epoch: 48 Gan Loss: 4.773412227630615       Disc Loss: 0.27755454182624817        Gen Loss: 0.010758621618151665\n",
            "Epoch: 48 Test Gan Loss: 0.15134017169475555  Test Disc Loss: 4.000687122344971 \n",
            "\n",
            "\n",
            "\n",
            "Epoch: 49 Gan Loss: 8.154706001281738       Disc Loss: 3.950627326965332        Gen Loss: 0.010797902941703796\n",
            "Epoch: 49 Test Gan Loss: 0.3973192274570465  Test Disc Loss: 1.0672260522842407 \n",
            "\n",
            "\n",
            "\n",
            "Epoch: 50 Gan Loss: 7.241023063659668       Disc Loss: 1.3129031658172607        Gen Loss: 0.010807029902935028\n",
            "Epoch: 50 Test Gan Loss: 0.40168437361717224  Test Disc Loss: 1.0578116178512573 \n",
            "\n",
            "\n",
            "\n",
            "Epoch: 51 Gan Loss: 10.12089729309082       Disc Loss: 2.7835826873779297        Gen Loss: 0.010580813512206078\n",
            "Epoch: 51 Test Gan Loss: 0.9139879941940308  Test Disc Loss: 0.44505220651626587 \n",
            "\n",
            "\n",
            "\n",
            "Epoch: 52 Gan Loss: 7.195752143859863       Disc Loss: 1.90794837474823        Gen Loss: 0.010654890909790993\n",
            "Epoch: 52 Test Gan Loss: 0.7105382680892944  Test Disc Loss: 0.5063906908035278 \n",
            "\n",
            "\n",
            "\n",
            "Epoch: 53 Gan Loss: 12.92981243133545       Disc Loss: 1.0420938730239868        Gen Loss: 0.010427500121295452\n",
            "Epoch: 53 Test Gan Loss: 1.9222691059112549  Test Disc Loss: 0.4062845706939697 \n",
            "\n",
            "\n",
            "\n",
            "Epoch: 54 Gan Loss: 10.281720161437988       Disc Loss: 1.576453685760498        Gen Loss: 0.010326996445655823\n",
            "Epoch: 54 Test Gan Loss: 1.421741247177124  Test Disc Loss: 0.4090541899204254 \n",
            "\n",
            "\n",
            "\n",
            "Epoch: 55 Gan Loss: 11.966644287109375       Disc Loss: 1.0813965797424316        Gen Loss: 0.01040368527173996\n",
            "Epoch: 55 Test Gan Loss: 3.450883388519287  Test Disc Loss: 0.46330496668815613 \n",
            "\n",
            "\n",
            "\n",
            "Epoch: 56 Gan Loss: 10.01235580444336       Disc Loss: 2.165999412536621        Gen Loss: 0.010433197021484375\n",
            "Epoch: 56 Test Gan Loss: 1.5497353076934814  Test Disc Loss: 0.4004093110561371 \n",
            "\n",
            "\n",
            "\n",
            "Epoch: 57 Gan Loss: 12.578222274780273       Disc Loss: 0.8225430250167847        Gen Loss: 0.010179243981838226\n",
            "Epoch: 57 Test Gan Loss: 4.608268737792969  Test Disc Loss: 0.5022510290145874 \n",
            "\n",
            "\n",
            "\n",
            "Epoch: 58 Gan Loss: 7.279635906219482       Disc Loss: 1.7662967443466187        Gen Loss: 0.010210511274635792\n",
            "Epoch: 58 Test Gan Loss: 1.2499176263809204  Test Disc Loss: 0.3893028497695923 \n",
            "\n",
            "\n",
            "\n",
            "Epoch: 59 Gan Loss: 13.591853141784668       Disc Loss: 0.5493407845497131        Gen Loss: 0.01010986976325512\n",
            "Epoch: 59 Test Gan Loss: 11.521322250366211  Test Disc Loss: 0.8783789873123169 \n",
            "\n",
            "\n",
            "\n",
            "Epoch: 60 Gan Loss: 6.691862106323242       Disc Loss: 0.2773253321647644        Gen Loss: 0.01012047752737999\n",
            "Epoch: 60 Test Gan Loss: 0.8798701763153076  Test Disc Loss: 0.43025335669517517 \n",
            "\n",
            "\n",
            "\n",
            "Epoch: 61 Gan Loss: 13.463397979736328       Disc Loss: 0.8609785437583923        Gen Loss: 0.009857180528342724\n",
            "Epoch: 61 Test Gan Loss: 2.4446253776550293  Test Disc Loss: 0.42285582423210144 \n",
            "\n",
            "\n",
            "\n",
            "Epoch: 62 Gan Loss: 7.408827781677246       Disc Loss: 0.5304611921310425        Gen Loss: 0.010051104240119457\n",
            "Epoch: 62 Test Gan Loss: 0.8247506022453308  Test Disc Loss: 0.4439197778701782 \n",
            "\n",
            "\n",
            "\n",
            "Epoch: 63 Gan Loss: 15.221796035766602       Disc Loss: -0.17076322436332703        Gen Loss: 0.009948119521141052\n",
            "Epoch: 63 Test Gan Loss: 4.3516459465026855  Test Disc Loss: 0.4685138463973999 \n",
            "\n",
            "\n",
            "\n",
            "Epoch: 64 Gan Loss: 10.60824203491211       Disc Loss: 2.1060497760772705        Gen Loss: 0.009914498776197433\n",
            "Epoch: 64 Test Gan Loss: 0.8734070062637329  Test Disc Loss: 0.4250190556049347 \n",
            "\n",
            "\n",
            "\n",
            "Epoch: 65 Gan Loss: 11.947916030883789       Disc Loss: 0.525726854801178        Gen Loss: 0.009743431583046913\n",
            "Epoch: 65 Test Gan Loss: 1.4234974384307861  Test Disc Loss: 0.3872983753681183 \n",
            "\n",
            "\n",
            "\n",
            "Epoch: 66 Gan Loss: 5.43187141418457       Disc Loss: 0.7113568782806396        Gen Loss: 0.009837483987212181\n",
            "Epoch: 66 Test Gan Loss: 0.6778768301010132  Test Disc Loss: 0.5142643451690674 \n",
            "\n",
            "\n",
            "\n",
            "Epoch: 67 Gan Loss: 13.18397331237793       Disc Loss: 0.7417030334472656        Gen Loss: 0.009724916890263557\n",
            "Epoch: 67 Test Gan Loss: 2.8620383739471436  Test Disc Loss: 0.4299475848674774 \n",
            "\n",
            "\n",
            "\n",
            "Epoch: 68 Gan Loss: 5.983484268188477       Disc Loss: 0.35608911514282227        Gen Loss: 0.009756293147802353\n",
            "Epoch: 68 Test Gan Loss: 1.844718098640442  Test Disc Loss: 0.4196755290031433 \n",
            "\n",
            "\n",
            "\n",
            "Epoch: 69 Gan Loss: 14.549972534179688       Disc Loss: 0.7524541616439819        Gen Loss: 0.00958411768078804\n",
            "Epoch: 69 Test Gan Loss: 11.409692764282227  Test Disc Loss: 0.827987551689148 \n",
            "\n",
            "\n",
            "\n",
            "Epoch: 70 Gan Loss: 9.443907737731934       Disc Loss: 1.1585190296173096        Gen Loss: 0.009498197585344315\n",
            "Epoch: 70 Test Gan Loss: 6.266384124755859  Test Disc Loss: 0.4923364520072937 \n",
            "\n",
            "\n",
            "\n",
            "Epoch: 71 Gan Loss: 14.998414993286133       Disc Loss: -0.053411878645420074        Gen Loss: 0.009494783356785774\n",
            "Epoch: 71 Test Gan Loss: 1.1301236152648926  Test Disc Loss: 0.42089956998825073 \n",
            "\n",
            "\n",
            "\n",
            "Epoch: 72 Gan Loss: 14.28735065460205       Disc Loss: 7.051171779632568        Gen Loss: 0.009521901607513428\n",
            "Epoch: 72 Test Gan Loss: 0.33261507749557495  Test Disc Loss: 1.972051978111267 \n",
            "\n",
            "\n",
            "\n",
            "Epoch: 73 Gan Loss: 14.714136123657227       Disc Loss: 0.8352154493331909        Gen Loss: 0.00936315767467022\n",
            "Epoch: 73 Test Gan Loss: 0.45458096265792847  Test Disc Loss: 1.1026699542999268 \n",
            "\n",
            "\n",
            "\n",
            "Epoch: 74 Gan Loss: 11.319391250610352       Disc Loss: 4.439312934875488        Gen Loss: 0.00932464562356472\n",
            "Epoch: 74 Test Gan Loss: 0.24134697020053864  Test Disc Loss: 2.7136969566345215 \n",
            "\n",
            "\n",
            "\n",
            "Epoch: 75 Gan Loss: 12.227479934692383       Disc Loss: 1.2440743446350098        Gen Loss: 0.0092666856944561\n",
            "Epoch: 75 Test Gan Loss: 0.5155307650566101  Test Disc Loss: 0.9667298793792725 \n",
            "\n",
            "\n",
            "\n",
            "Epoch: 76 Gan Loss: 12.461395263671875       Disc Loss: 3.3681187629699707        Gen Loss: 0.009390191175043583\n",
            "Epoch: 76 Test Gan Loss: 0.42621660232543945  Test Disc Loss: 1.221388816833496 \n",
            "\n",
            "\n",
            "\n",
            "Epoch: 77 Gan Loss: 12.786125183105469       Disc Loss: 0.23107154667377472        Gen Loss: 0.009261627681553364\n",
            "Epoch: 77 Test Gan Loss: 0.8758593201637268  Test Disc Loss: 0.47735390067100525 \n",
            "\n",
            "\n",
            "\n",
            "Epoch: 78 Gan Loss: 9.954505920410156       Disc Loss: 1.4570025205612183        Gen Loss: 0.009105190634727478\n",
            "Epoch: 78 Test Gan Loss: 0.38788488507270813  Test Disc Loss: 1.519042730331421 \n",
            "\n",
            "\n",
            "\n",
            "Epoch: 79 Gan Loss: 13.114091873168945       Disc Loss: -0.11779730767011642        Gen Loss: 0.009164998307824135\n",
            "Epoch: 79 Test Gan Loss: 3.4559075832366943  Test Disc Loss: 0.4307830035686493 \n",
            "\n",
            "\n",
            "\n",
            "Epoch: 80 Gan Loss: 11.50240707397461       Disc Loss: 1.8787660598754883        Gen Loss: 0.009007501415908337\n",
            "Epoch: 80 Test Gan Loss: 0.7241053581237793  Test Disc Loss: 0.5666210651397705 \n",
            "\n",
            "\n",
            "\n",
            "Epoch: 81 Gan Loss: 13.18301773071289       Disc Loss: 0.40466412901878357        Gen Loss: 0.009009179659187794\n",
            "Epoch: 81 Test Gan Loss: 1.3548085689544678  Test Disc Loss: 0.4293219745159149 \n",
            "\n",
            "\n",
            "\n",
            "Epoch: 82 Gan Loss: 10.814002990722656       Disc Loss: 1.6491093635559082        Gen Loss: 0.009041602723300457\n",
            "Epoch: 82 Test Gan Loss: 0.9024083018302917  Test Disc Loss: 0.4885231852531433 \n",
            "\n",
            "\n",
            "\n",
            "Epoch: 83 Gan Loss: 14.3400297164917       Disc Loss: -0.12080760300159454        Gen Loss: 0.00928524136543274\n",
            "Epoch: 83 Test Gan Loss: 4.842245101928711  Test Disc Loss: 0.7041730284690857 \n",
            "\n",
            "\n",
            "\n",
            "Epoch: 84 Gan Loss: 10.908679962158203       Disc Loss: 4.17193603515625        Gen Loss: 0.008940465748310089\n",
            "Epoch: 84 Test Gan Loss: 1.1571046113967896  Test Disc Loss: 0.9779236316680908 \n",
            "\n",
            "\n",
            "\n",
            "Epoch: 85 Gan Loss: 14.947179794311523       Disc Loss: 0.15776723623275757        Gen Loss: 0.00896700844168663\n",
            "Epoch: 85 Test Gan Loss: 8.202353477478027  Test Disc Loss: 1.0159211158752441 \n",
            "\n",
            "\n",
            "\n",
            "Epoch: 86 Gan Loss: 12.223747253417969       Disc Loss: 3.150017261505127        Gen Loss: 0.008936879225075245\n",
            "Epoch: 86 Test Gan Loss: 2.9843921661376953  Test Disc Loss: 0.5576622486114502 \n",
            "\n",
            "\n",
            "\n",
            "Epoch: 87 Gan Loss: 14.73227596282959       Disc Loss: 0.6116017699241638        Gen Loss: 0.008862237446010113\n",
            "Epoch: 87 Test Gan Loss: 5.261011600494385  Test Disc Loss: 0.6082808971405029 \n",
            "\n",
            "\n",
            "\n",
            "Epoch: 88 Gan Loss: 10.177298545837402       Disc Loss: 2.0402655601501465        Gen Loss: 0.008746253326535225\n",
            "Epoch: 88 Test Gan Loss: 0.9766895771026611  Test Disc Loss: 0.8042863011360168 \n",
            "\n",
            "\n",
            "\n",
            "Epoch: 89 Gan Loss: 14.088899612426758       Disc Loss: 1.9467686414718628        Gen Loss: 0.008801212534308434\n",
            "Epoch: 89 Test Gan Loss: 3.910595178604126  Test Disc Loss: 0.4845576286315918 \n",
            "\n",
            "\n",
            "\n",
            "Epoch: 90 Gan Loss: 8.604665756225586       Disc Loss: 0.9516146183013916        Gen Loss: 0.008739255368709564\n",
            "Epoch: 90 Test Gan Loss: 0.9106274843215942  Test Disc Loss: 0.712678074836731 \n",
            "\n",
            "\n",
            "\n",
            "Epoch: 91 Gan Loss: 12.6972074508667       Disc Loss: 0.3221384286880493        Gen Loss: 0.008743560872972012\n",
            "Epoch: 91 Test Gan Loss: 2.99625301361084  Test Disc Loss: 0.47995656728744507 \n",
            "\n",
            "\n",
            "\n",
            "Epoch: 92 Gan Loss: 8.724835395812988       Disc Loss: 1.1356983184814453        Gen Loss: 0.008637277409434319\n",
            "Epoch: 92 Test Gan Loss: 0.38470086455345154  Test Disc Loss: 2.2261979579925537 \n",
            "\n",
            "\n",
            "\n",
            "Epoch: 93 Gan Loss: 13.434724807739258       Disc Loss: 0.5781996250152588        Gen Loss: 0.008678138256072998\n",
            "Epoch: 93 Test Gan Loss: 1.195570468902588  Test Disc Loss: 0.5744267106056213 \n",
            "\n",
            "\n",
            "\n",
            "Epoch: 94 Gan Loss: 10.143826484680176       Disc Loss: 1.9272043704986572        Gen Loss: 0.008751715533435345\n",
            "Epoch: 94 Test Gan Loss: 0.46700185537338257  Test Disc Loss: 2.0678927898406982 \n",
            "\n",
            "\n",
            "\n",
            "Epoch: 95 Gan Loss: 12.295618057250977       Disc Loss: 0.8652524352073669        Gen Loss: 0.008541712537407875\n",
            "Epoch: 95 Test Gan Loss: 1.30878746509552  Test Disc Loss: 0.5597322583198547 \n",
            "\n",
            "\n",
            "\n",
            "Epoch: 96 Gan Loss: 2.084299087524414       Disc Loss: 0.11087220907211304        Gen Loss: 0.008561590686440468\n",
            "Epoch: 96 Test Gan Loss: 8.746333122253418  Test Disc Loss: 0.9365964531898499 \n",
            "\n",
            "\n",
            "\n",
            "Epoch: 97 Gan Loss: 8.846344947814941       Disc Loss: 4.532351970672607        Gen Loss: 0.008606117218732834\n",
            "Epoch: 97 Test Gan Loss: 15.424947738647461  Test Disc Loss: 7.648492336273193 \n",
            "\n",
            "\n",
            "\n",
            "Epoch: 98 Gan Loss: 8.86337947845459       Disc Loss: 1.613706350326538        Gen Loss: 0.008701231330633163\n",
            "Epoch: 98 Test Gan Loss: 15.38422679901123  Test Disc Loss: 7.481385707855225 \n",
            "\n",
            "\n",
            "\n",
            "Epoch: 99 Gan Loss: 11.02524185180664       Disc Loss: 1.6906695365905762        Gen Loss: 0.008612397126853466\n",
            "Epoch: 99 Test Gan Loss: 15.424947738647461  Test Disc Loss: 7.64957332611084 \n",
            "\n",
            "\n",
            "\n",
            "Epoch: 100 Gan Loss: 12.501041412353516       Disc Loss: 1.5207716226577759        Gen Loss: 0.008524538017809391\n",
            "Epoch: 100 Test Gan Loss: 15.384994506835938  Test Disc Loss: 7.566999912261963 \n",
            "\n",
            "\n",
            "\n",
            "Epoch: 101 Gan Loss: 13.832008361816406       Disc Loss: 0.6564474701881409        Gen Loss: 0.008492780849337578\n",
            "Epoch: 101 Test Gan Loss: 15.424947738647461  Test Disc Loss: 7.66741943359375 \n",
            "\n",
            "\n",
            "\n",
            "Epoch: 102 Gan Loss: 3.0372676849365234       Disc Loss: -0.06071348488330841        Gen Loss: 0.008405737578868866\n",
            "Epoch: 102 Test Gan Loss: 5.128119945526123  Test Disc Loss: 0.6614778637886047 \n",
            "\n",
            "\n",
            "\n",
            "Epoch: 103 Gan Loss: 10.393542289733887       Disc Loss: 2.9969234466552734        Gen Loss: 0.008525297045707703\n",
            "Epoch: 103 Test Gan Loss: 12.77629566192627  Test Disc Loss: 2.2485146522521973 \n",
            "\n",
            "\n",
            "\n",
            "Epoch: 104 Gan Loss: 10.5109224319458       Disc Loss: 2.443807363510132        Gen Loss: 0.008261010982096195\n",
            "Epoch: 104 Test Gan Loss: 12.791940689086914  Test Disc Loss: 2.0509567260742188 \n",
            "\n",
            "\n",
            "\n",
            "Epoch: 105 Gan Loss: 13.845603942871094       Disc Loss: 0.5244130492210388        Gen Loss: 0.00838860496878624\n",
            "Epoch: 105 Test Gan Loss: 14.5836181640625  Test Disc Loss: 4.122808456420898 \n",
            "\n",
            "\n",
            "\n",
            "Epoch: 106 Gan Loss: 10.269414901733398       Disc Loss: 1.0780490636825562        Gen Loss: 0.008159098215401173\n",
            "Epoch: 106 Test Gan Loss: 12.326384544372559  Test Disc Loss: 1.9660192728042603 \n",
            "\n",
            "\n",
            "\n",
            "Epoch: 107 Gan Loss: 14.493005752563477       Disc Loss: 0.33154264092445374        Gen Loss: 0.00830372516065836\n",
            "Epoch: 107 Test Gan Loss: 12.30196475982666  Test Disc Loss: 1.9014794826507568 \n",
            "\n",
            "\n",
            "\n",
            "Epoch: 108 Gan Loss: 11.041129112243652       Disc Loss: 2.523414373397827        Gen Loss: 0.00825333409011364\n",
            "Epoch: 108 Test Gan Loss: 7.988635063171387  Test Disc Loss: 0.8704524040222168 \n",
            "\n",
            "\n",
            "\n",
            "Epoch: 109 Gan Loss: 14.251640319824219       Disc Loss: 0.4197976589202881        Gen Loss: 0.00816057063639164\n",
            "Epoch: 109 Test Gan Loss: 14.024008750915527  Test Disc Loss: 3.305402994155884 \n",
            "\n",
            "\n",
            "\n",
            "Epoch: 110 Gan Loss: 11.2852201461792       Disc Loss: 1.3696004152297974        Gen Loss: 0.008086500689387321\n",
            "Epoch: 110 Test Gan Loss: 3.2642126083374023  Test Disc Loss: 0.6335180997848511 \n",
            "\n",
            "\n",
            "\n",
            "Epoch: 111 Gan Loss: 12.935892105102539       Disc Loss: 1.112591028213501        Gen Loss: 0.008135935291647911\n",
            "Epoch: 111 Test Gan Loss: 7.7476301193237305  Test Disc Loss: 0.8780491948127747 \n",
            "\n",
            "\n",
            "\n",
            "Epoch: 112 Gan Loss: 9.465572357177734       Disc Loss: 2.826812267303467        Gen Loss: 0.008204592391848564\n",
            "Epoch: 112 Test Gan Loss: 2.5522921085357666  Test Disc Loss: 0.5626369714736938 \n",
            "\n",
            "\n",
            "\n",
            "Epoch: 113 Gan Loss: 14.294769287109375       Disc Loss: 0.6129496693611145        Gen Loss: 0.00816748570650816\n",
            "Epoch: 113 Test Gan Loss: 13.514811515808105  Test Disc Loss: 2.6054158210754395 \n",
            "\n",
            "\n",
            "\n",
            "Epoch: 114 Gan Loss: 10.48425579071045       Disc Loss: 2.8429906368255615        Gen Loss: 0.00806526280939579\n",
            "Epoch: 114 Test Gan Loss: 7.8692708015441895  Test Disc Loss: 0.8972488641738892 \n",
            "\n",
            "\n",
            "\n",
            "Epoch: 115 Gan Loss: 14.94291877746582       Disc Loss: 0.17894838750362396        Gen Loss: 0.008121205493807793\n",
            "Epoch: 115 Test Gan Loss: 14.53101634979248  Test Disc Loss: 4.222768306732178 \n",
            "\n",
            "\n",
            "\n",
            "Epoch: 116 Gan Loss: 9.651911735534668       Disc Loss: 1.460837960243225        Gen Loss: 0.008085601031780243\n",
            "Epoch: 116 Test Gan Loss: 11.434136390686035  Test Disc Loss: 1.6251457929611206 \n",
            "\n",
            "\n",
            "\n",
            "Epoch: 117 Gan Loss: 12.584900856018066       Disc Loss: 1.2007595300674438        Gen Loss: 0.008072327822446823\n",
            "Epoch: 117 Test Gan Loss: 14.91722583770752  Test Disc Loss: 5.100801467895508 \n",
            "\n",
            "\n",
            "\n",
            "Epoch: 118 Gan Loss: 10.356244087219238       Disc Loss: 1.2863644361495972        Gen Loss: 0.008112860843539238\n",
            "Epoch: 118 Test Gan Loss: 11.55204963684082  Test Disc Loss: 1.4339230060577393 \n",
            "\n",
            "\n",
            "\n"
          ],
          "name": "stdout"
        },
        {
          "output_type": "error",
          "ename": "KeyboardInterrupt",
          "evalue": "ignored",
          "traceback": [
            "\u001b[0;31m---------------------------------------------------------------------------\u001b[0m",
            "\u001b[0;31mKeyboardInterrupt\u001b[0m                         Traceback (most recent call last)",
            "\u001b[0;32m<ipython-input-19-35bfacb2c22c>\u001b[0m in \u001b[0;36m<module>\u001b[0;34m()\u001b[0m\n\u001b[1;32m      2\u001b[0m \u001b[0mmodel_save_path\u001b[0m \u001b[0;34m=\u001b[0m \u001b[0;34m\"/content/drive/My Drive/biometrics_data/models/half_face\"\u001b[0m\u001b[0;34m\u001b[0m\u001b[0;34m\u001b[0m\u001b[0m\n\u001b[1;32m      3\u001b[0m \u001b[0mbatch_size\u001b[0m \u001b[0;34m=\u001b[0m \u001b[0;36m64\u001b[0m\u001b[0;34m\u001b[0m\u001b[0;34m\u001b[0m\u001b[0m\n\u001b[0;32m----> 4\u001b[0;31m \u001b[0mtrain\u001b[0m\u001b[0;34m(\u001b[0m\u001b[0mx\u001b[0m\u001b[0;34m,\u001b[0m\u001b[0my\u001b[0m\u001b[0;34m,\u001b[0m\u001b[0;36m504\u001b[0m\u001b[0;34m,\u001b[0m\u001b[0mmodel_save_path\u001b[0m\u001b[0;34m)\u001b[0m\u001b[0;34m\u001b[0m\u001b[0;34m\u001b[0m\u001b[0m\n\u001b[0m",
            "\u001b[0;32m<ipython-input-16-8f26408521e7>\u001b[0m in \u001b[0;36mtrain\u001b[0;34m(x, y, nepoch, model_save_path)\u001b[0m\n\u001b[1;32m     49\u001b[0m \u001b[0;34m\u001b[0m\u001b[0m\n\u001b[1;32m     50\u001b[0m       \u001b[0;31m#Do one training step. Also assign the losses to variables. We will print them.\u001b[0m\u001b[0;34m\u001b[0m\u001b[0;34m\u001b[0m\u001b[0;34m\u001b[0m\u001b[0m\n\u001b[0;32m---> 51\u001b[0;31m       \u001b[0md_loss\u001b[0m \u001b[0;34m=\u001b[0m \u001b[0mdiscriminator\u001b[0m\u001b[0;34m.\u001b[0m\u001b[0mtrain_on_batch\u001b[0m\u001b[0;34m(\u001b[0m\u001b[0mdisc_inp\u001b[0m\u001b[0;34m,\u001b[0m\u001b[0mdisc_label\u001b[0m\u001b[0;34m)\u001b[0m\u001b[0;34m\u001b[0m\u001b[0;34m\u001b[0m\u001b[0m\n\u001b[0m\u001b[1;32m     52\u001b[0m \u001b[0;34m\u001b[0m\u001b[0m\n\u001b[1;32m     53\u001b[0m \u001b[0;34m\u001b[0m\u001b[0m\n",
            "\u001b[0;32m/usr/local/lib/python3.6/dist-packages/tensorflow/python/keras/engine/training.py\u001b[0m in \u001b[0;36mtrain_on_batch\u001b[0;34m(self, x, y, sample_weight, class_weight, reset_metrics)\u001b[0m\n\u001b[1;32m   1173\u001b[0m       \u001b[0mself\u001b[0m\u001b[0;34m.\u001b[0m\u001b[0m_update_sample_weight_modes\u001b[0m\u001b[0;34m(\u001b[0m\u001b[0msample_weights\u001b[0m\u001b[0;34m=\u001b[0m\u001b[0msample_weights\u001b[0m\u001b[0;34m)\u001b[0m\u001b[0;34m\u001b[0m\u001b[0;34m\u001b[0m\u001b[0m\n\u001b[1;32m   1174\u001b[0m       \u001b[0mself\u001b[0m\u001b[0;34m.\u001b[0m\u001b[0m_make_train_function\u001b[0m\u001b[0;34m(\u001b[0m\u001b[0;34m)\u001b[0m\u001b[0;34m\u001b[0m\u001b[0;34m\u001b[0m\u001b[0m\n\u001b[0;32m-> 1175\u001b[0;31m       \u001b[0moutputs\u001b[0m \u001b[0;34m=\u001b[0m \u001b[0mself\u001b[0m\u001b[0;34m.\u001b[0m\u001b[0mtrain_function\u001b[0m\u001b[0;34m(\u001b[0m\u001b[0mins\u001b[0m\u001b[0;34m)\u001b[0m  \u001b[0;31m# pylint: disable=not-callable\u001b[0m\u001b[0;34m\u001b[0m\u001b[0;34m\u001b[0m\u001b[0m\n\u001b[0m\u001b[1;32m   1176\u001b[0m \u001b[0;34m\u001b[0m\u001b[0m\n\u001b[1;32m   1177\u001b[0m     \u001b[0;32mif\u001b[0m \u001b[0mreset_metrics\u001b[0m\u001b[0;34m:\u001b[0m\u001b[0;34m\u001b[0m\u001b[0;34m\u001b[0m\u001b[0m\n",
            "\u001b[0;32m/usr/local/lib/python3.6/dist-packages/tensorflow/python/keras/backend.py\u001b[0m in \u001b[0;36m__call__\u001b[0;34m(self, inputs)\u001b[0m\n\u001b[1;32m   3290\u001b[0m \u001b[0;34m\u001b[0m\u001b[0m\n\u001b[1;32m   3291\u001b[0m     fetched = self._callable_fn(*array_vals,\n\u001b[0;32m-> 3292\u001b[0;31m                                 run_metadata=self.run_metadata)\n\u001b[0m\u001b[1;32m   3293\u001b[0m     \u001b[0mself\u001b[0m\u001b[0;34m.\u001b[0m\u001b[0m_call_fetch_callbacks\u001b[0m\u001b[0;34m(\u001b[0m\u001b[0mfetched\u001b[0m\u001b[0;34m[\u001b[0m\u001b[0;34m-\u001b[0m\u001b[0mlen\u001b[0m\u001b[0;34m(\u001b[0m\u001b[0mself\u001b[0m\u001b[0;34m.\u001b[0m\u001b[0m_fetches\u001b[0m\u001b[0;34m)\u001b[0m\u001b[0;34m:\u001b[0m\u001b[0;34m]\u001b[0m\u001b[0;34m)\u001b[0m\u001b[0;34m\u001b[0m\u001b[0;34m\u001b[0m\u001b[0m\n\u001b[1;32m   3294\u001b[0m     output_structure = nest.pack_sequence_as(\n",
            "\u001b[0;32m/usr/local/lib/python3.6/dist-packages/tensorflow/python/client/session.py\u001b[0m in \u001b[0;36m__call__\u001b[0;34m(self, *args, **kwargs)\u001b[0m\n\u001b[1;32m   1456\u001b[0m         ret = tf_session.TF_SessionRunCallable(self._session._session,\n\u001b[1;32m   1457\u001b[0m                                                \u001b[0mself\u001b[0m\u001b[0;34m.\u001b[0m\u001b[0m_handle\u001b[0m\u001b[0;34m,\u001b[0m \u001b[0margs\u001b[0m\u001b[0;34m,\u001b[0m\u001b[0;34m\u001b[0m\u001b[0;34m\u001b[0m\u001b[0m\n\u001b[0;32m-> 1458\u001b[0;31m                                                run_metadata_ptr)\n\u001b[0m\u001b[1;32m   1459\u001b[0m         \u001b[0;32mif\u001b[0m \u001b[0mrun_metadata\u001b[0m\u001b[0;34m:\u001b[0m\u001b[0;34m\u001b[0m\u001b[0;34m\u001b[0m\u001b[0m\n\u001b[1;32m   1460\u001b[0m           \u001b[0mproto_data\u001b[0m \u001b[0;34m=\u001b[0m \u001b[0mtf_session\u001b[0m\u001b[0;34m.\u001b[0m\u001b[0mTF_GetBuffer\u001b[0m\u001b[0;34m(\u001b[0m\u001b[0mrun_metadata_ptr\u001b[0m\u001b[0;34m)\u001b[0m\u001b[0;34m\u001b[0m\u001b[0;34m\u001b[0m\u001b[0m\n",
            "\u001b[0;31mKeyboardInterrupt\u001b[0m: "
          ]
        }
      ]
    },
    {
      "cell_type": "markdown",
      "metadata": {
        "id": "fC6S0LiJqWCW",
        "colab_type": "text"
      },
      "source": [
        "Step 3 - Make predictions and view them.\n",
        "\n",
        "Step 3 Note: Don't forget to modify \"plot_path\" variable. This variable determines where to save the plot."
      ]
    },
    {
      "cell_type": "code",
      "metadata": {
        "id": "lzF8GvhT1_6C",
        "colab_type": "code",
        "colab": {
          "base_uri": "https://localhost:8080/",
          "height": 550
        },
        "outputId": "8d91c2cb-3d9c-464a-984b-06d65036dd84"
      },
      "source": [
        "#Making predictions and drawing them.\n",
        "#First row: Occluded images\n",
        "#Second row: Ground Truth images\n",
        "#Third row: Predictions\n",
        "\n",
        "import datetime\n",
        "plot_path = \"/content/drive/My Drive/biometrics_data/plots/half_face\"\n",
        "\n",
        "a = 4160\n",
        "b = 4170\n",
        "pred=generator.predict(x[a:b])\n",
        "\n",
        "fig = plt.figure(figsize = (20,10))\n",
        "for ctr in range(10):\n",
        "  fig.add_subplot(3,10,ctr+1)\n",
        "  plt.imshow(np.reshape(x[a + ctr],(64,64)),  cmap = \"gray\")\n",
        "\n",
        "  \n",
        "\n",
        "for ctr in range(10):\n",
        "  fig.add_subplot(3,10,(10 + ctr + 1))\n",
        "  plt.imshow(np.reshape(y[a + ctr]/255,(64,64)),  cmap = \"gray\")  \n",
        "\n",
        "\n",
        "for ctr in range(10):\n",
        "  fig.add_subplot(3,10,(20 + ctr + 1))\n",
        "  plt.imshow(np.reshape(pred[ctr],(64,64)),  cmap = \"gray\")\n",
        "  \n",
        "#plt.savefig(os.path.join(plot_path,str(datetime.datetime.now().strftime('%m-%d-%H:%M'))))"
      ],
      "execution_count": 21,
      "outputs": [
        {
          "output_type": "display_data",
          "data": {
            "image/png": "[encoded data removed]",
            "text/plain": [
              "<Figure size 1440x720 with 30 Axes>"
            ]
          },
          "metadata": {
            "tags": []
          }
        }
      ]
    },
    {
      "cell_type": "markdown",
      "metadata": {
        "id": "ka-RX2vblDFf",
        "colab_type": "text"
      },
      "source": [
        "Step 2- Load weights here:\n",
        "(Don't forget to modify the model_path)"
      ]
    },
    {
      "cell_type": "markdown",
      "metadata": {
        "id": "cRUuhUhxXeNW",
        "colab_type": "text"
      },
      "source": [
        "You may encounter an error while loading the model due to multi GPU compatibility: https://github.com/keras-team/keras/issues/9562\n",
        "\n",
        "If you see such an error, you can always use Colab and train a new model. (Don't forget to use GPU.)\n",
        "\n",
        "The code to train the model exists in this notebook."
      ]
    },
    {
      "cell_type": "code",
      "metadata": {
        "colab_type": "code",
        "id": "3OxJnJn5QMLr",
        "colab": {
          "base_uri": "https://localhost:8080/",
          "height": 1302
        },
        "outputId": "07af0bb7-e676-4a9e-fc40-453ded49871a"
      },
      "source": [
        "model_path = \"/content/drive/My Drive/biometrics_data/models/last_experiment_500/\"\n",
        "\n",
        "epoch = 500\n",
        "\n",
        "\n",
        "\n",
        "#generator = creategen()\n",
        "generator.load_weights(os.path.join(model_path,\"{0}_wg.h5\".format(epoch)))\n",
        "#discriminator = createdisc()\n",
        "discriminator.load_weights(os.path.join(model_path,\"{0}_wd.h5\".format(epoch)))\n",
        "\n",
        "\n",
        "#gan = creategan(generator,discriminator)\n",
        "gan.load_weights(os.path.join(model_path,\"{0}_wgan.h5\".format(epoch)))"
      ],
      "execution_count": 15,
      "outputs": [
        {
          "output_type": "error",
          "ename": "ValueError",
          "evalue": "ignored",
          "traceback": [
            "\u001b[0;31m---------------------------------------------------------------------------\u001b[0m",
            "\u001b[0;31mValueError\u001b[0m                                Traceback (most recent call last)",
            "\u001b[0;32m<ipython-input-15-fef2138e4a6b>\u001b[0m in \u001b[0;36m<module>\u001b[0;34m()\u001b[0m\n\u001b[1;32m     12\u001b[0m \u001b[0;34m\u001b[0m\u001b[0m\n\u001b[1;32m     13\u001b[0m \u001b[0;31m#gan = creategan(generator,discriminator)\u001b[0m\u001b[0;34m\u001b[0m\u001b[0;34m\u001b[0m\u001b[0;34m\u001b[0m\u001b[0m\n\u001b[0;32m---> 14\u001b[0;31m \u001b[0mgan\u001b[0m\u001b[0;34m.\u001b[0m\u001b[0mload_weights\u001b[0m\u001b[0;34m(\u001b[0m\u001b[0mos\u001b[0m\u001b[0;34m.\u001b[0m\u001b[0mpath\u001b[0m\u001b[0;34m.\u001b[0m\u001b[0mjoin\u001b[0m\u001b[0;34m(\u001b[0m\u001b[0mmodel_path\u001b[0m\u001b[0;34m,\u001b[0m\u001b[0;34m\"{0}_wgan.h5\"\u001b[0m\u001b[0;34m.\u001b[0m\u001b[0mformat\u001b[0m\u001b[0;34m(\u001b[0m\u001b[0mepoch\u001b[0m\u001b[0;34m)\u001b[0m\u001b[0;34m)\u001b[0m\u001b[0;34m)\u001b[0m\u001b[0;34m\u001b[0m\u001b[0;34m\u001b[0m\u001b[0m\n\u001b[0m",
            "\u001b[0;32m/usr/local/lib/python3.6/dist-packages/tensorflow/python/keras/engine/training.py\u001b[0m in \u001b[0;36mload_weights\u001b[0;34m(self, filepath, by_name)\u001b[0m\n\u001b[1;32m    160\u001b[0m         raise ValueError('Load weights is not yet supported with TPUStrategy '\n\u001b[1;32m    161\u001b[0m                          'with steps_per_run greater than 1.')\n\u001b[0;32m--> 162\u001b[0;31m     \u001b[0;32mreturn\u001b[0m \u001b[0msuper\u001b[0m\u001b[0;34m(\u001b[0m\u001b[0mModel\u001b[0m\u001b[0;34m,\u001b[0m \u001b[0mself\u001b[0m\u001b[0;34m)\u001b[0m\u001b[0;34m.\u001b[0m\u001b[0mload_weights\u001b[0m\u001b[0;34m(\u001b[0m\u001b[0mfilepath\u001b[0m\u001b[0;34m,\u001b[0m \u001b[0mby_name\u001b[0m\u001b[0;34m)\u001b[0m\u001b[0;34m\u001b[0m\u001b[0;34m\u001b[0m\u001b[0m\n\u001b[0m\u001b[1;32m    163\u001b[0m \u001b[0;34m\u001b[0m\u001b[0m\n\u001b[1;32m    164\u001b[0m   \u001b[0;34m@\u001b[0m\u001b[0mtrackable\u001b[0m\u001b[0;34m.\u001b[0m\u001b[0mno_automatic_dependency_tracking\u001b[0m\u001b[0;34m\u001b[0m\u001b[0;34m\u001b[0m\u001b[0m\n",
            "\u001b[0;32m/usr/local/lib/python3.6/dist-packages/tensorflow/python/keras/engine/network.py\u001b[0m in \u001b[0;36mload_weights\u001b[0;34m(self, filepath, by_name)\u001b[0m\n\u001b[1;32m   1422\u001b[0m         \u001b[0msaving\u001b[0m\u001b[0;34m.\u001b[0m\u001b[0mload_weights_from_hdf5_group_by_name\u001b[0m\u001b[0;34m(\u001b[0m\u001b[0mf\u001b[0m\u001b[0;34m,\u001b[0m \u001b[0mself\u001b[0m\u001b[0;34m.\u001b[0m\u001b[0mlayers\u001b[0m\u001b[0;34m)\u001b[0m\u001b[0;34m\u001b[0m\u001b[0;34m\u001b[0m\u001b[0m\n\u001b[1;32m   1423\u001b[0m       \u001b[0;32melse\u001b[0m\u001b[0;34m:\u001b[0m\u001b[0;34m\u001b[0m\u001b[0;34m\u001b[0m\u001b[0m\n\u001b[0;32m-> 1424\u001b[0;31m         \u001b[0msaving\u001b[0m\u001b[0;34m.\u001b[0m\u001b[0mload_weights_from_hdf5_group\u001b[0m\u001b[0;34m(\u001b[0m\u001b[0mf\u001b[0m\u001b[0;34m,\u001b[0m \u001b[0mself\u001b[0m\u001b[0;34m.\u001b[0m\u001b[0mlayers\u001b[0m\u001b[0;34m)\u001b[0m\u001b[0;34m\u001b[0m\u001b[0;34m\u001b[0m\u001b[0m\n\u001b[0m\u001b[1;32m   1425\u001b[0m \u001b[0;34m\u001b[0m\u001b[0m\n\u001b[1;32m   1426\u001b[0m   \u001b[0;32mdef\u001b[0m \u001b[0m_updated_config\u001b[0m\u001b[0;34m(\u001b[0m\u001b[0mself\u001b[0m\u001b[0;34m)\u001b[0m\u001b[0;34m:\u001b[0m\u001b[0;34m\u001b[0m\u001b[0;34m\u001b[0m\u001b[0m\n",
            "\u001b[0;32m/usr/local/lib/python3.6/dist-packages/tensorflow/python/keras/saving/hdf5_format.py\u001b[0m in \u001b[0;36mload_weights_from_hdf5_group\u001b[0;34m(f, layers)\u001b[0m\n\u001b[1;32m    747\u001b[0m     \u001b[0msymbolic_weights\u001b[0m \u001b[0;34m=\u001b[0m \u001b[0m_legacy_weights\u001b[0m\u001b[0;34m(\u001b[0m\u001b[0mlayer\u001b[0m\u001b[0;34m)\u001b[0m\u001b[0;34m\u001b[0m\u001b[0;34m\u001b[0m\u001b[0m\n\u001b[1;32m    748\u001b[0m     weight_values = preprocess_weights_for_loading(\n\u001b[0;32m--> 749\u001b[0;31m         layer, weight_values, original_keras_version, original_backend)\n\u001b[0m\u001b[1;32m    750\u001b[0m     \u001b[0;32mif\u001b[0m \u001b[0mlen\u001b[0m\u001b[0;34m(\u001b[0m\u001b[0mweight_values\u001b[0m\u001b[0;34m)\u001b[0m \u001b[0;34m!=\u001b[0m \u001b[0mlen\u001b[0m\u001b[0;34m(\u001b[0m\u001b[0msymbolic_weights\u001b[0m\u001b[0;34m)\u001b[0m\u001b[0;34m:\u001b[0m\u001b[0;34m\u001b[0m\u001b[0;34m\u001b[0m\u001b[0m\n\u001b[1;32m    751\u001b[0m       raise ValueError('Layer #' + str(k) + ' (named \"' + layer.name +\n",
            "\u001b[0;32m/usr/local/lib/python3.6/dist-packages/tensorflow/python/keras/saving/hdf5_format.py\u001b[0m in \u001b[0;36mpreprocess_weights_for_loading\u001b[0;34m(layer, weights, original_keras_version, original_backend)\u001b[0m\n\u001b[1;32m    372\u001b[0m     \u001b[0mweights\u001b[0m \u001b[0;34m=\u001b[0m \u001b[0mconvert_nested_time_distributed\u001b[0m\u001b[0;34m(\u001b[0m\u001b[0mweights\u001b[0m\u001b[0;34m)\u001b[0m\u001b[0;34m\u001b[0m\u001b[0;34m\u001b[0m\u001b[0m\n\u001b[1;32m    373\u001b[0m   \u001b[0;32melif\u001b[0m \u001b[0mlayer\u001b[0m\u001b[0;34m.\u001b[0m\u001b[0m__class__\u001b[0m\u001b[0;34m.\u001b[0m\u001b[0m__name__\u001b[0m \u001b[0;32min\u001b[0m \u001b[0;34m[\u001b[0m\u001b[0;34m'Model'\u001b[0m\u001b[0;34m,\u001b[0m \u001b[0;34m'Sequential'\u001b[0m\u001b[0;34m]\u001b[0m\u001b[0;34m:\u001b[0m\u001b[0;34m\u001b[0m\u001b[0;34m\u001b[0m\u001b[0m\n\u001b[0;32m--> 374\u001b[0;31m     \u001b[0mweights\u001b[0m \u001b[0;34m=\u001b[0m \u001b[0mconvert_nested_model\u001b[0m\u001b[0;34m(\u001b[0m\u001b[0mweights\u001b[0m\u001b[0;34m)\u001b[0m\u001b[0;34m\u001b[0m\u001b[0;34m\u001b[0m\u001b[0m\n\u001b[0m\u001b[1;32m    375\u001b[0m \u001b[0;34m\u001b[0m\u001b[0m\n\u001b[1;32m    376\u001b[0m   \u001b[0;32mif\u001b[0m \u001b[0moriginal_keras_version\u001b[0m \u001b[0;34m==\u001b[0m \u001b[0;34m'1'\u001b[0m\u001b[0;34m:\u001b[0m\u001b[0;34m\u001b[0m\u001b[0;34m\u001b[0m\u001b[0m\n",
            "\u001b[0;32m/usr/local/lib/python3.6/dist-packages/tensorflow/python/keras/saving/hdf5_format.py\u001b[0m in \u001b[0;36mconvert_nested_model\u001b[0;34m(weights)\u001b[0m\n\u001b[1;32m    360\u001b[0m             \u001b[0mweights\u001b[0m\u001b[0;34m=\u001b[0m\u001b[0mweights\u001b[0m\u001b[0;34m[\u001b[0m\u001b[0;34m:\u001b[0m\u001b[0mnum_weights\u001b[0m\u001b[0;34m]\u001b[0m\u001b[0;34m,\u001b[0m\u001b[0;34m\u001b[0m\u001b[0;34m\u001b[0m\u001b[0m\n\u001b[1;32m    361\u001b[0m             \u001b[0moriginal_keras_version\u001b[0m\u001b[0;34m=\u001b[0m\u001b[0moriginal_keras_version\u001b[0m\u001b[0;34m,\u001b[0m\u001b[0;34m\u001b[0m\u001b[0;34m\u001b[0m\u001b[0m\n\u001b[0;32m--> 362\u001b[0;31m             original_backend=original_backend))\n\u001b[0m\u001b[1;32m    363\u001b[0m         \u001b[0mweights\u001b[0m \u001b[0;34m=\u001b[0m \u001b[0mweights\u001b[0m\u001b[0;34m[\u001b[0m\u001b[0mnum_weights\u001b[0m\u001b[0;34m:\u001b[0m\u001b[0;34m]\u001b[0m\u001b[0;34m\u001b[0m\u001b[0;34m\u001b[0m\u001b[0m\n\u001b[1;32m    364\u001b[0m     \u001b[0;32mreturn\u001b[0m \u001b[0mnew_weights\u001b[0m\u001b[0;34m\u001b[0m\u001b[0;34m\u001b[0m\u001b[0m\n",
            "\u001b[0;32m/usr/local/lib/python3.6/dist-packages/tensorflow/python/keras/saving/hdf5_format.py\u001b[0m in \u001b[0;36mpreprocess_weights_for_loading\u001b[0;34m(layer, weights, original_keras_version, original_backend)\u001b[0m\n\u001b[1;32m    454\u001b[0m         \u001b[0mweights\u001b[0m\u001b[0;34m[\u001b[0m\u001b[0;36m1\u001b[0m\u001b[0;34m]\u001b[0m \u001b[0;34m=\u001b[0m \u001b[0mconv_utils\u001b[0m\u001b[0;34m.\u001b[0m\u001b[0mconvert_kernel\u001b[0m\u001b[0;34m(\u001b[0m\u001b[0mweights\u001b[0m\u001b[0;34m[\u001b[0m\u001b[0;36m1\u001b[0m\u001b[0;34m]\u001b[0m\u001b[0;34m)\u001b[0m\u001b[0;34m\u001b[0m\u001b[0;34m\u001b[0m\u001b[0m\n\u001b[1;32m    455\u001b[0m     \u001b[0;32mif\u001b[0m \u001b[0mK\u001b[0m\u001b[0;34m.\u001b[0m\u001b[0mint_shape\u001b[0m\u001b[0;34m(\u001b[0m\u001b[0mlayer\u001b[0m\u001b[0;34m.\u001b[0m\u001b[0mweights\u001b[0m\u001b[0;34m[\u001b[0m\u001b[0;36m0\u001b[0m\u001b[0;34m]\u001b[0m\u001b[0;34m)\u001b[0m \u001b[0;34m!=\u001b[0m \u001b[0mweights\u001b[0m\u001b[0;34m[\u001b[0m\u001b[0;36m0\u001b[0m\u001b[0;34m]\u001b[0m\u001b[0;34m.\u001b[0m\u001b[0mshape\u001b[0m\u001b[0;34m:\u001b[0m\u001b[0;34m\u001b[0m\u001b[0;34m\u001b[0m\u001b[0m\n\u001b[0;32m--> 456\u001b[0;31m       \u001b[0mweights\u001b[0m\u001b[0;34m[\u001b[0m\u001b[0;36m0\u001b[0m\u001b[0;34m]\u001b[0m \u001b[0;34m=\u001b[0m \u001b[0mnp\u001b[0m\u001b[0;34m.\u001b[0m\u001b[0mtranspose\u001b[0m\u001b[0;34m(\u001b[0m\u001b[0mweights\u001b[0m\u001b[0;34m[\u001b[0m\u001b[0;36m0\u001b[0m\u001b[0;34m]\u001b[0m\u001b[0;34m,\u001b[0m \u001b[0;34m(\u001b[0m\u001b[0;36m3\u001b[0m\u001b[0;34m,\u001b[0m \u001b[0;36m2\u001b[0m\u001b[0;34m,\u001b[0m \u001b[0;36m0\u001b[0m\u001b[0;34m,\u001b[0m \u001b[0;36m1\u001b[0m\u001b[0;34m)\u001b[0m\u001b[0;34m)\u001b[0m\u001b[0;34m\u001b[0m\u001b[0;34m\u001b[0m\u001b[0m\n\u001b[0m\u001b[1;32m    457\u001b[0m       \u001b[0;32mif\u001b[0m \u001b[0mlayer\u001b[0m\u001b[0;34m.\u001b[0m\u001b[0m__class__\u001b[0m\u001b[0;34m.\u001b[0m\u001b[0m__name__\u001b[0m \u001b[0;34m==\u001b[0m \u001b[0;34m'ConvLSTM2D'\u001b[0m\u001b[0;34m:\u001b[0m\u001b[0;34m\u001b[0m\u001b[0;34m\u001b[0m\u001b[0m\n\u001b[1;32m    458\u001b[0m         \u001b[0mweights\u001b[0m\u001b[0;34m[\u001b[0m\u001b[0;36m1\u001b[0m\u001b[0;34m]\u001b[0m \u001b[0;34m=\u001b[0m \u001b[0mnp\u001b[0m\u001b[0;34m.\u001b[0m\u001b[0mtranspose\u001b[0m\u001b[0;34m(\u001b[0m\u001b[0mweights\u001b[0m\u001b[0;34m[\u001b[0m\u001b[0;36m1\u001b[0m\u001b[0;34m]\u001b[0m\u001b[0;34m,\u001b[0m \u001b[0;34m(\u001b[0m\u001b[0;36m3\u001b[0m\u001b[0;34m,\u001b[0m \u001b[0;36m2\u001b[0m\u001b[0;34m,\u001b[0m \u001b[0;36m0\u001b[0m\u001b[0;34m,\u001b[0m \u001b[0;36m1\u001b[0m\u001b[0;34m)\u001b[0m\u001b[0;34m)\u001b[0m\u001b[0;34m\u001b[0m\u001b[0;34m\u001b[0m\u001b[0m\n",
            "\u001b[0;32m/usr/local/lib/python3.6/dist-packages/numpy/core/fromnumeric.py\u001b[0m in \u001b[0;36mtranspose\u001b[0;34m(a, axes)\u001b[0m\n\u001b[1;32m    637\u001b[0m \u001b[0;34m\u001b[0m\u001b[0m\n\u001b[1;32m    638\u001b[0m     \"\"\"\n\u001b[0;32m--> 639\u001b[0;31m     \u001b[0;32mreturn\u001b[0m \u001b[0m_wrapfunc\u001b[0m\u001b[0;34m(\u001b[0m\u001b[0ma\u001b[0m\u001b[0;34m,\u001b[0m \u001b[0;34m'transpose'\u001b[0m\u001b[0;34m,\u001b[0m \u001b[0maxes\u001b[0m\u001b[0;34m)\u001b[0m\u001b[0;34m\u001b[0m\u001b[0;34m\u001b[0m\u001b[0m\n\u001b[0m\u001b[1;32m    640\u001b[0m \u001b[0;34m\u001b[0m\u001b[0m\n\u001b[1;32m    641\u001b[0m \u001b[0;34m\u001b[0m\u001b[0m\n",
            "\u001b[0;32m/usr/local/lib/python3.6/dist-packages/numpy/core/fromnumeric.py\u001b[0m in \u001b[0;36m_wrapfunc\u001b[0;34m(obj, method, *args, **kwds)\u001b[0m\n\u001b[1;32m     54\u001b[0m \u001b[0;32mdef\u001b[0m \u001b[0m_wrapfunc\u001b[0m\u001b[0;34m(\u001b[0m\u001b[0mobj\u001b[0m\u001b[0;34m,\u001b[0m \u001b[0mmethod\u001b[0m\u001b[0;34m,\u001b[0m \u001b[0;34m*\u001b[0m\u001b[0margs\u001b[0m\u001b[0;34m,\u001b[0m \u001b[0;34m**\u001b[0m\u001b[0mkwds\u001b[0m\u001b[0;34m)\u001b[0m\u001b[0;34m:\u001b[0m\u001b[0;34m\u001b[0m\u001b[0;34m\u001b[0m\u001b[0m\n\u001b[1;32m     55\u001b[0m     \u001b[0;32mtry\u001b[0m\u001b[0;34m:\u001b[0m\u001b[0;34m\u001b[0m\u001b[0;34m\u001b[0m\u001b[0m\n\u001b[0;32m---> 56\u001b[0;31m         \u001b[0;32mreturn\u001b[0m \u001b[0mgetattr\u001b[0m\u001b[0;34m(\u001b[0m\u001b[0mobj\u001b[0m\u001b[0;34m,\u001b[0m \u001b[0mmethod\u001b[0m\u001b[0;34m)\u001b[0m\u001b[0;34m(\u001b[0m\u001b[0;34m*\u001b[0m\u001b[0margs\u001b[0m\u001b[0;34m,\u001b[0m \u001b[0;34m**\u001b[0m\u001b[0mkwds\u001b[0m\u001b[0;34m)\u001b[0m\u001b[0;34m\u001b[0m\u001b[0;34m\u001b[0m\u001b[0m\n\u001b[0m\u001b[1;32m     57\u001b[0m \u001b[0;34m\u001b[0m\u001b[0m\n\u001b[1;32m     58\u001b[0m     \u001b[0;31m# An AttributeError occurs if the object does not have\u001b[0m\u001b[0;34m\u001b[0m\u001b[0;34m\u001b[0m\u001b[0;34m\u001b[0m\u001b[0m\n",
            "\u001b[0;31mValueError\u001b[0m: axes don't match array"
          ]
        }
      ]
    },
    {
      "cell_type": "code",
      "metadata": {
        "id": "BM3E25Ep2zjF",
        "colab_type": "code",
        "colab": {}
      },
      "source": [
        ""
      ],
      "execution_count": 0,
      "outputs": []
    }
  ]
}